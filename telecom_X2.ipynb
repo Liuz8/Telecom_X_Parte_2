{
 "cells": [
  {
   "cell_type": "markdown",
   "id": "80916d36",
   "metadata": {},
   "source": [
    "# Preparacion de datos"
   ]
  },
  {
   "cell_type": "markdown",
   "id": "1f60effa",
   "metadata": {},
   "source": [
    "## Extracción del Archivo Tratado"
   ]
  },
  {
   "cell_type": "markdown",
   "id": "51736814",
   "metadata": {},
   "source": [
    "Carga el archivo CSV que contiene los datos tratados anteriormente.\n",
    "📂 Atención: Utiliza el mismo archivo que limpiaste y organizaste en la Parte 1 del desafío Telecom X. Debe contener solo las columnas relevantes, ya con los datos corregidos y estandarizados."
   ]
  },
  {
   "cell_type": "code",
   "execution_count": 23,
   "id": "c6157376",
   "metadata": {},
   "outputs": [],
   "source": [
    "import pandas as pd\n",
    "\n",
    "# Cargar el archivo JSON\n",
    "df = pd.read_json(\"TelecomX2_Data.json\")"
   ]
  },
  {
   "cell_type": "code",
   "execution_count": 24,
   "id": "cd028612",
   "metadata": {},
   "outputs": [
    {
     "data": {
      "text/html": [
       "<div>\n",
       "<style scoped>\n",
       "    .dataframe tbody tr th:only-of-type {\n",
       "        vertical-align: middle;\n",
       "    }\n",
       "\n",
       "    .dataframe tbody tr th {\n",
       "        vertical-align: top;\n",
       "    }\n",
       "\n",
       "    .dataframe thead th {\n",
       "        text-align: right;\n",
       "    }\n",
       "</style>\n",
       "<table border=\"1\" class=\"dataframe\">\n",
       "  <thead>\n",
       "    <tr style=\"text-align: right;\">\n",
       "      <th></th>\n",
       "      <th>customerID</th>\n",
       "      <th>Churn</th>\n",
       "      <th>customer_gender</th>\n",
       "      <th>customer_SeniorCitizen</th>\n",
       "      <th>customer_Partner</th>\n",
       "      <th>customer_Dependents</th>\n",
       "      <th>customer_tenure</th>\n",
       "      <th>phone_PhoneService</th>\n",
       "      <th>phone_MultipleLines</th>\n",
       "      <th>internet_InternetService</th>\n",
       "      <th>...</th>\n",
       "      <th>internet_TechSupport</th>\n",
       "      <th>internet_StreamingTV</th>\n",
       "      <th>internet_StreamingMovies</th>\n",
       "      <th>account_Contract</th>\n",
       "      <th>account_PaperlessBilling</th>\n",
       "      <th>account_PaymentMethod</th>\n",
       "      <th>account_Charges_Monthly</th>\n",
       "      <th>account_Charges_Total</th>\n",
       "      <th>estimated_daily_charge</th>\n",
       "      <th>Churn_bin</th>\n",
       "    </tr>\n",
       "  </thead>\n",
       "  <tbody>\n",
       "    <tr>\n",
       "      <th>0</th>\n",
       "      <td>0002-ORFBO</td>\n",
       "      <td>No</td>\n",
       "      <td>Female</td>\n",
       "      <td>0</td>\n",
       "      <td>1</td>\n",
       "      <td>1</td>\n",
       "      <td>9</td>\n",
       "      <td>1</td>\n",
       "      <td>0</td>\n",
       "      <td>DSL</td>\n",
       "      <td>...</td>\n",
       "      <td>1</td>\n",
       "      <td>1</td>\n",
       "      <td>0</td>\n",
       "      <td>One year</td>\n",
       "      <td>1</td>\n",
       "      <td>Mailed check</td>\n",
       "      <td>65.6</td>\n",
       "      <td>593.30</td>\n",
       "      <td>2.19</td>\n",
       "      <td>0</td>\n",
       "    </tr>\n",
       "    <tr>\n",
       "      <th>1</th>\n",
       "      <td>0003-MKNFE</td>\n",
       "      <td>No</td>\n",
       "      <td>Male</td>\n",
       "      <td>0</td>\n",
       "      <td>0</td>\n",
       "      <td>0</td>\n",
       "      <td>9</td>\n",
       "      <td>1</td>\n",
       "      <td>1</td>\n",
       "      <td>DSL</td>\n",
       "      <td>...</td>\n",
       "      <td>0</td>\n",
       "      <td>0</td>\n",
       "      <td>1</td>\n",
       "      <td>Month-to-month</td>\n",
       "      <td>0</td>\n",
       "      <td>Mailed check</td>\n",
       "      <td>59.9</td>\n",
       "      <td>542.40</td>\n",
       "      <td>2.00</td>\n",
       "      <td>0</td>\n",
       "    </tr>\n",
       "    <tr>\n",
       "      <th>2</th>\n",
       "      <td>0004-TLHLJ</td>\n",
       "      <td>Yes</td>\n",
       "      <td>Male</td>\n",
       "      <td>0</td>\n",
       "      <td>0</td>\n",
       "      <td>0</td>\n",
       "      <td>4</td>\n",
       "      <td>1</td>\n",
       "      <td>0</td>\n",
       "      <td>Fiber optic</td>\n",
       "      <td>...</td>\n",
       "      <td>0</td>\n",
       "      <td>0</td>\n",
       "      <td>0</td>\n",
       "      <td>Month-to-month</td>\n",
       "      <td>1</td>\n",
       "      <td>Electronic check</td>\n",
       "      <td>73.9</td>\n",
       "      <td>280.85</td>\n",
       "      <td>2.46</td>\n",
       "      <td>1</td>\n",
       "    </tr>\n",
       "    <tr>\n",
       "      <th>3</th>\n",
       "      <td>0011-IGKFF</td>\n",
       "      <td>Yes</td>\n",
       "      <td>Male</td>\n",
       "      <td>1</td>\n",
       "      <td>1</td>\n",
       "      <td>0</td>\n",
       "      <td>13</td>\n",
       "      <td>1</td>\n",
       "      <td>0</td>\n",
       "      <td>Fiber optic</td>\n",
       "      <td>...</td>\n",
       "      <td>0</td>\n",
       "      <td>1</td>\n",
       "      <td>1</td>\n",
       "      <td>Month-to-month</td>\n",
       "      <td>1</td>\n",
       "      <td>Electronic check</td>\n",
       "      <td>98.0</td>\n",
       "      <td>1237.85</td>\n",
       "      <td>3.27</td>\n",
       "      <td>1</td>\n",
       "    </tr>\n",
       "    <tr>\n",
       "      <th>4</th>\n",
       "      <td>0013-EXCHZ</td>\n",
       "      <td>Yes</td>\n",
       "      <td>Female</td>\n",
       "      <td>1</td>\n",
       "      <td>1</td>\n",
       "      <td>0</td>\n",
       "      <td>3</td>\n",
       "      <td>1</td>\n",
       "      <td>0</td>\n",
       "      <td>Fiber optic</td>\n",
       "      <td>...</td>\n",
       "      <td>1</td>\n",
       "      <td>1</td>\n",
       "      <td>0</td>\n",
       "      <td>Month-to-month</td>\n",
       "      <td>1</td>\n",
       "      <td>Mailed check</td>\n",
       "      <td>83.9</td>\n",
       "      <td>267.40</td>\n",
       "      <td>2.80</td>\n",
       "      <td>1</td>\n",
       "    </tr>\n",
       "  </tbody>\n",
       "</table>\n",
       "<p>5 rows × 23 columns</p>\n",
       "</div>"
      ],
      "text/plain": [
       "   customerID Churn customer_gender  customer_SeniorCitizen  customer_Partner  \\\n",
       "0  0002-ORFBO    No          Female                       0                 1   \n",
       "1  0003-MKNFE    No            Male                       0                 0   \n",
       "2  0004-TLHLJ   Yes            Male                       0                 0   \n",
       "3  0011-IGKFF   Yes            Male                       1                 1   \n",
       "4  0013-EXCHZ   Yes          Female                       1                 1   \n",
       "\n",
       "   customer_Dependents  customer_tenure  phone_PhoneService  \\\n",
       "0                    1                9                   1   \n",
       "1                    0                9                   1   \n",
       "2                    0                4                   1   \n",
       "3                    0               13                   1   \n",
       "4                    0                3                   1   \n",
       "\n",
       "   phone_MultipleLines internet_InternetService  ...  internet_TechSupport  \\\n",
       "0                    0                      DSL  ...                     1   \n",
       "1                    1                      DSL  ...                     0   \n",
       "2                    0              Fiber optic  ...                     0   \n",
       "3                    0              Fiber optic  ...                     0   \n",
       "4                    0              Fiber optic  ...                     1   \n",
       "\n",
       "   internet_StreamingTV  internet_StreamingMovies  account_Contract  \\\n",
       "0                     1                         0          One year   \n",
       "1                     0                         1    Month-to-month   \n",
       "2                     0                         0    Month-to-month   \n",
       "3                     1                         1    Month-to-month   \n",
       "4                     1                         0    Month-to-month   \n",
       "\n",
       "   account_PaperlessBilling  account_PaymentMethod account_Charges_Monthly  \\\n",
       "0                         1           Mailed check                    65.6   \n",
       "1                         0           Mailed check                    59.9   \n",
       "2                         1       Electronic check                    73.9   \n",
       "3                         1       Electronic check                    98.0   \n",
       "4                         1           Mailed check                    83.9   \n",
       "\n",
       "   account_Charges_Total estimated_daily_charge  Churn_bin  \n",
       "0                 593.30                   2.19          0  \n",
       "1                 542.40                   2.00          0  \n",
       "2                 280.85                   2.46          1  \n",
       "3                1237.85                   3.27          1  \n",
       "4                 267.40                   2.80          1  \n",
       "\n",
       "[5 rows x 23 columns]"
      ]
     },
     "execution_count": 24,
     "metadata": {},
     "output_type": "execute_result"
    }
   ],
   "source": [
    "df.head()"
   ]
  },
  {
   "cell_type": "code",
   "execution_count": 25,
   "id": "89168e61",
   "metadata": {},
   "outputs": [
    {
     "name": "stdout",
     "output_type": "stream",
     "text": [
      "<class 'pandas.core.frame.DataFrame'>\n",
      "RangeIndex: 7043 entries, 0 to 7042\n",
      "Data columns (total 23 columns):\n",
      " #   Column                     Non-Null Count  Dtype  \n",
      "---  ------                     --------------  -----  \n",
      " 0   customerID                 7043 non-null   object \n",
      " 1   Churn                      7043 non-null   object \n",
      " 2   customer_gender            7043 non-null   object \n",
      " 3   customer_SeniorCitizen     7043 non-null   int64  \n",
      " 4   customer_Partner           7043 non-null   int64  \n",
      " 5   customer_Dependents        7043 non-null   int64  \n",
      " 6   customer_tenure            7043 non-null   int64  \n",
      " 7   phone_PhoneService         7043 non-null   int64  \n",
      " 8   phone_MultipleLines        7043 non-null   int64  \n",
      " 9   internet_InternetService   7043 non-null   object \n",
      " 10  internet_OnlineSecurity    7043 non-null   int64  \n",
      " 11  internet_OnlineBackup      7043 non-null   int64  \n",
      " 12  internet_DeviceProtection  7043 non-null   int64  \n",
      " 13  internet_TechSupport       7043 non-null   int64  \n",
      " 14  internet_StreamingTV       7043 non-null   int64  \n",
      " 15  internet_StreamingMovies   7043 non-null   int64  \n",
      " 16  account_Contract           7043 non-null   object \n",
      " 17  account_PaperlessBilling   7043 non-null   int64  \n",
      " 18  account_PaymentMethod      7043 non-null   object \n",
      " 19  account_Charges_Monthly    7043 non-null   float64\n",
      " 20  account_Charges_Total      7043 non-null   float64\n",
      " 21  estimated_daily_charge     7043 non-null   float64\n",
      " 22  Churn_bin                  7043 non-null   int64  \n",
      "dtypes: float64(3), int64(14), object(6)\n",
      "memory usage: 1.2+ MB\n"
     ]
    }
   ],
   "source": [
    "df.info()"
   ]
  },
  {
   "cell_type": "markdown",
   "id": "cb82b36a",
   "metadata": {},
   "source": [
    "## Elimina columnas que no aportan valor al análisis o a los modelos predictivos, como identificadores únicos (por ejemplo, el ID del cliente). Estas columnas no ayudan en la predicción de la cancelación y pueden incluso perjudicar el desempeño de los modelos."
   ]
  },
  {
   "cell_type": "code",
   "execution_count": 26,
   "id": "1802f03f",
   "metadata": {},
   "outputs": [],
   "source": [
    "df.drop(columns=[\"customerID\"], inplace=True)"
   ]
  },
  {
   "cell_type": "code",
   "execution_count": 27,
   "id": "12f16aba",
   "metadata": {},
   "outputs": [
    {
     "data": {
      "text/html": [
       "<div>\n",
       "<style scoped>\n",
       "    .dataframe tbody tr th:only-of-type {\n",
       "        vertical-align: middle;\n",
       "    }\n",
       "\n",
       "    .dataframe tbody tr th {\n",
       "        vertical-align: top;\n",
       "    }\n",
       "\n",
       "    .dataframe thead th {\n",
       "        text-align: right;\n",
       "    }\n",
       "</style>\n",
       "<table border=\"1\" class=\"dataframe\">\n",
       "  <thead>\n",
       "    <tr style=\"text-align: right;\">\n",
       "      <th></th>\n",
       "      <th>Churn</th>\n",
       "      <th>customer_gender</th>\n",
       "      <th>customer_SeniorCitizen</th>\n",
       "      <th>customer_Partner</th>\n",
       "      <th>customer_Dependents</th>\n",
       "      <th>customer_tenure</th>\n",
       "      <th>phone_PhoneService</th>\n",
       "      <th>phone_MultipleLines</th>\n",
       "      <th>internet_InternetService</th>\n",
       "      <th>internet_OnlineSecurity</th>\n",
       "      <th>...</th>\n",
       "      <th>internet_TechSupport</th>\n",
       "      <th>internet_StreamingTV</th>\n",
       "      <th>internet_StreamingMovies</th>\n",
       "      <th>account_Contract</th>\n",
       "      <th>account_PaperlessBilling</th>\n",
       "      <th>account_PaymentMethod</th>\n",
       "      <th>account_Charges_Monthly</th>\n",
       "      <th>account_Charges_Total</th>\n",
       "      <th>estimated_daily_charge</th>\n",
       "      <th>Churn_bin</th>\n",
       "    </tr>\n",
       "  </thead>\n",
       "  <tbody>\n",
       "    <tr>\n",
       "      <th>0</th>\n",
       "      <td>No</td>\n",
       "      <td>Female</td>\n",
       "      <td>0</td>\n",
       "      <td>1</td>\n",
       "      <td>1</td>\n",
       "      <td>9</td>\n",
       "      <td>1</td>\n",
       "      <td>0</td>\n",
       "      <td>DSL</td>\n",
       "      <td>0</td>\n",
       "      <td>...</td>\n",
       "      <td>1</td>\n",
       "      <td>1</td>\n",
       "      <td>0</td>\n",
       "      <td>One year</td>\n",
       "      <td>1</td>\n",
       "      <td>Mailed check</td>\n",
       "      <td>65.6</td>\n",
       "      <td>593.30</td>\n",
       "      <td>2.19</td>\n",
       "      <td>0</td>\n",
       "    </tr>\n",
       "    <tr>\n",
       "      <th>1</th>\n",
       "      <td>No</td>\n",
       "      <td>Male</td>\n",
       "      <td>0</td>\n",
       "      <td>0</td>\n",
       "      <td>0</td>\n",
       "      <td>9</td>\n",
       "      <td>1</td>\n",
       "      <td>1</td>\n",
       "      <td>DSL</td>\n",
       "      <td>0</td>\n",
       "      <td>...</td>\n",
       "      <td>0</td>\n",
       "      <td>0</td>\n",
       "      <td>1</td>\n",
       "      <td>Month-to-month</td>\n",
       "      <td>0</td>\n",
       "      <td>Mailed check</td>\n",
       "      <td>59.9</td>\n",
       "      <td>542.40</td>\n",
       "      <td>2.00</td>\n",
       "      <td>0</td>\n",
       "    </tr>\n",
       "    <tr>\n",
       "      <th>2</th>\n",
       "      <td>Yes</td>\n",
       "      <td>Male</td>\n",
       "      <td>0</td>\n",
       "      <td>0</td>\n",
       "      <td>0</td>\n",
       "      <td>4</td>\n",
       "      <td>1</td>\n",
       "      <td>0</td>\n",
       "      <td>Fiber optic</td>\n",
       "      <td>0</td>\n",
       "      <td>...</td>\n",
       "      <td>0</td>\n",
       "      <td>0</td>\n",
       "      <td>0</td>\n",
       "      <td>Month-to-month</td>\n",
       "      <td>1</td>\n",
       "      <td>Electronic check</td>\n",
       "      <td>73.9</td>\n",
       "      <td>280.85</td>\n",
       "      <td>2.46</td>\n",
       "      <td>1</td>\n",
       "    </tr>\n",
       "    <tr>\n",
       "      <th>3</th>\n",
       "      <td>Yes</td>\n",
       "      <td>Male</td>\n",
       "      <td>1</td>\n",
       "      <td>1</td>\n",
       "      <td>0</td>\n",
       "      <td>13</td>\n",
       "      <td>1</td>\n",
       "      <td>0</td>\n",
       "      <td>Fiber optic</td>\n",
       "      <td>0</td>\n",
       "      <td>...</td>\n",
       "      <td>0</td>\n",
       "      <td>1</td>\n",
       "      <td>1</td>\n",
       "      <td>Month-to-month</td>\n",
       "      <td>1</td>\n",
       "      <td>Electronic check</td>\n",
       "      <td>98.0</td>\n",
       "      <td>1237.85</td>\n",
       "      <td>3.27</td>\n",
       "      <td>1</td>\n",
       "    </tr>\n",
       "    <tr>\n",
       "      <th>4</th>\n",
       "      <td>Yes</td>\n",
       "      <td>Female</td>\n",
       "      <td>1</td>\n",
       "      <td>1</td>\n",
       "      <td>0</td>\n",
       "      <td>3</td>\n",
       "      <td>1</td>\n",
       "      <td>0</td>\n",
       "      <td>Fiber optic</td>\n",
       "      <td>0</td>\n",
       "      <td>...</td>\n",
       "      <td>1</td>\n",
       "      <td>1</td>\n",
       "      <td>0</td>\n",
       "      <td>Month-to-month</td>\n",
       "      <td>1</td>\n",
       "      <td>Mailed check</td>\n",
       "      <td>83.9</td>\n",
       "      <td>267.40</td>\n",
       "      <td>2.80</td>\n",
       "      <td>1</td>\n",
       "    </tr>\n",
       "  </tbody>\n",
       "</table>\n",
       "<p>5 rows × 22 columns</p>\n",
       "</div>"
      ],
      "text/plain": [
       "  Churn customer_gender  customer_SeniorCitizen  customer_Partner  \\\n",
       "0    No          Female                       0                 1   \n",
       "1    No            Male                       0                 0   \n",
       "2   Yes            Male                       0                 0   \n",
       "3   Yes            Male                       1                 1   \n",
       "4   Yes          Female                       1                 1   \n",
       "\n",
       "   customer_Dependents  customer_tenure  phone_PhoneService  \\\n",
       "0                    1                9                   1   \n",
       "1                    0                9                   1   \n",
       "2                    0                4                   1   \n",
       "3                    0               13                   1   \n",
       "4                    0                3                   1   \n",
       "\n",
       "   phone_MultipleLines internet_InternetService  internet_OnlineSecurity  ...  \\\n",
       "0                    0                      DSL                        0  ...   \n",
       "1                    1                      DSL                        0  ...   \n",
       "2                    0              Fiber optic                        0  ...   \n",
       "3                    0              Fiber optic                        0  ...   \n",
       "4                    0              Fiber optic                        0  ...   \n",
       "\n",
       "   internet_TechSupport  internet_StreamingTV  internet_StreamingMovies  \\\n",
       "0                     1                     1                         0   \n",
       "1                     0                     0                         1   \n",
       "2                     0                     0                         0   \n",
       "3                     0                     1                         1   \n",
       "4                     1                     1                         0   \n",
       "\n",
       "   account_Contract  account_PaperlessBilling account_PaymentMethod  \\\n",
       "0          One year                         1          Mailed check   \n",
       "1    Month-to-month                         0          Mailed check   \n",
       "2    Month-to-month                         1      Electronic check   \n",
       "3    Month-to-month                         1      Electronic check   \n",
       "4    Month-to-month                         1          Mailed check   \n",
       "\n",
       "   account_Charges_Monthly account_Charges_Total  estimated_daily_charge  \\\n",
       "0                     65.6                593.30                    2.19   \n",
       "1                     59.9                542.40                    2.00   \n",
       "2                     73.9                280.85                    2.46   \n",
       "3                     98.0               1237.85                    3.27   \n",
       "4                     83.9                267.40                    2.80   \n",
       "\n",
       "   Churn_bin  \n",
       "0          0  \n",
       "1          0  \n",
       "2          1  \n",
       "3          1  \n",
       "4          1  \n",
       "\n",
       "[5 rows x 22 columns]"
      ]
     },
     "execution_count": 27,
     "metadata": {},
     "output_type": "execute_result"
    }
   ],
   "source": [
    "df.head()"
   ]
  },
  {
   "cell_type": "markdown",
   "id": "2d2ade6e",
   "metadata": {},
   "source": [
    "## Transforma las variables categóricas a formato numérico para hacerlas compatibles con los algoritmos de machine learning."
   ]
  },
  {
   "cell_type": "markdown",
   "id": "5ae1fd59",
   "metadata": {},
   "source": [
    "Utiliza un método de codificación adecuado, como one-hot encoding.\n",
    "\n",
    "🔎 Sugerencia:\n",
    "Puedes consultar este artículo para entender mejor cuándo usar get_dummies o OneHotEncoder"
   ]
  },
  {
   "cell_type": "code",
   "execution_count": 28,
   "id": "351c8559",
   "metadata": {},
   "outputs": [
    {
     "name": "stdout",
     "output_type": "stream",
     "text": [
      "Index(['Churn', 'customer_SeniorCitizen', 'customer_Partner',\n",
      "       'customer_Dependents', 'customer_tenure', 'phone_PhoneService',\n",
      "       'phone_MultipleLines', 'internet_OnlineSecurity',\n",
      "       'internet_OnlineBackup', 'internet_DeviceProtection',\n",
      "       'internet_TechSupport', 'internet_StreamingTV',\n",
      "       'internet_StreamingMovies', 'account_PaperlessBilling',\n",
      "       'account_Charges_Monthly', 'account_Charges_Total',\n",
      "       'estimated_daily_charge', 'Churn_bin', 'customer_gender_Male',\n",
      "       'internet_InternetService_Fiber optic', 'internet_InternetService_No',\n",
      "       'account_Contract_One year', 'account_Contract_Two year',\n",
      "       'account_PaymentMethod_Credit card (automatic)',\n",
      "       'account_PaymentMethod_Electronic check',\n",
      "       'account_PaymentMethod_Mailed check'],\n",
      "      dtype='object')\n"
     ]
    }
   ],
   "source": [
    "# Lista de columnas categóricas a transformar\n",
    "columnas_categoricas = [\n",
    "    \"customer_gender\",\n",
    "    \"internet_InternetService\",\n",
    "    \"account_Contract\",\n",
    "    \"account_PaymentMethod\"\n",
    "]\n",
    "\n",
    "# One-hot encoding\n",
    "df_encoded = pd.get_dummies(df, columns=columnas_categoricas, drop_first=True)\n",
    "\n",
    "# Mostrar nuevas columnas\n",
    "print(df_encoded.columns)\n"
   ]
  },
  {
   "cell_type": "code",
   "execution_count": 49,
   "id": "943462a8",
   "metadata": {},
   "outputs": [],
   "source": [
    "# Mostrar todas las columnas\n",
    "pd.set_option('display.max_columns', None)"
   ]
  },
  {
   "cell_type": "code",
   "execution_count": 52,
   "id": "2cc826ac",
   "metadata": {},
   "outputs": [],
   "source": [
    "df_encoded = df_encoded.drop(\"Churn\", axis=1)\n"
   ]
  },
  {
   "cell_type": "code",
   "execution_count": 53,
   "id": "3ca529eb",
   "metadata": {},
   "outputs": [],
   "source": [
    "df_encoded = df_encoded.astype({col: int for col in df_encoded.select_dtypes('bool').columns})\n"
   ]
  },
  {
   "cell_type": "code",
   "execution_count": 54,
   "id": "bcf248b9",
   "metadata": {},
   "outputs": [
    {
     "data": {
      "text/html": [
       "<div>\n",
       "<style scoped>\n",
       "    .dataframe tbody tr th:only-of-type {\n",
       "        vertical-align: middle;\n",
       "    }\n",
       "\n",
       "    .dataframe tbody tr th {\n",
       "        vertical-align: top;\n",
       "    }\n",
       "\n",
       "    .dataframe thead th {\n",
       "        text-align: right;\n",
       "    }\n",
       "</style>\n",
       "<table border=\"1\" class=\"dataframe\">\n",
       "  <thead>\n",
       "    <tr style=\"text-align: right;\">\n",
       "      <th></th>\n",
       "      <th>customer_SeniorCitizen</th>\n",
       "      <th>customer_Partner</th>\n",
       "      <th>customer_Dependents</th>\n",
       "      <th>customer_tenure</th>\n",
       "      <th>phone_PhoneService</th>\n",
       "      <th>phone_MultipleLines</th>\n",
       "      <th>internet_OnlineSecurity</th>\n",
       "      <th>internet_OnlineBackup</th>\n",
       "      <th>internet_DeviceProtection</th>\n",
       "      <th>internet_TechSupport</th>\n",
       "      <th>internet_StreamingTV</th>\n",
       "      <th>internet_StreamingMovies</th>\n",
       "      <th>account_PaperlessBilling</th>\n",
       "      <th>account_Charges_Monthly</th>\n",
       "      <th>account_Charges_Total</th>\n",
       "      <th>estimated_daily_charge</th>\n",
       "      <th>Churn_bin</th>\n",
       "      <th>customer_gender_Male</th>\n",
       "      <th>internet_InternetService_Fiber optic</th>\n",
       "      <th>internet_InternetService_No</th>\n",
       "      <th>account_Contract_One year</th>\n",
       "      <th>account_Contract_Two year</th>\n",
       "      <th>account_PaymentMethod_Credit card (automatic)</th>\n",
       "      <th>account_PaymentMethod_Electronic check</th>\n",
       "      <th>account_PaymentMethod_Mailed check</th>\n",
       "    </tr>\n",
       "  </thead>\n",
       "  <tbody>\n",
       "    <tr>\n",
       "      <th>0</th>\n",
       "      <td>0</td>\n",
       "      <td>1</td>\n",
       "      <td>1</td>\n",
       "      <td>9</td>\n",
       "      <td>1</td>\n",
       "      <td>0</td>\n",
       "      <td>0</td>\n",
       "      <td>1</td>\n",
       "      <td>0</td>\n",
       "      <td>1</td>\n",
       "      <td>1</td>\n",
       "      <td>0</td>\n",
       "      <td>1</td>\n",
       "      <td>65.6</td>\n",
       "      <td>593.30</td>\n",
       "      <td>2.19</td>\n",
       "      <td>0</td>\n",
       "      <td>0</td>\n",
       "      <td>0</td>\n",
       "      <td>0</td>\n",
       "      <td>1</td>\n",
       "      <td>0</td>\n",
       "      <td>0</td>\n",
       "      <td>0</td>\n",
       "      <td>1</td>\n",
       "    </tr>\n",
       "    <tr>\n",
       "      <th>1</th>\n",
       "      <td>0</td>\n",
       "      <td>0</td>\n",
       "      <td>0</td>\n",
       "      <td>9</td>\n",
       "      <td>1</td>\n",
       "      <td>1</td>\n",
       "      <td>0</td>\n",
       "      <td>0</td>\n",
       "      <td>0</td>\n",
       "      <td>0</td>\n",
       "      <td>0</td>\n",
       "      <td>1</td>\n",
       "      <td>0</td>\n",
       "      <td>59.9</td>\n",
       "      <td>542.40</td>\n",
       "      <td>2.00</td>\n",
       "      <td>0</td>\n",
       "      <td>1</td>\n",
       "      <td>0</td>\n",
       "      <td>0</td>\n",
       "      <td>0</td>\n",
       "      <td>0</td>\n",
       "      <td>0</td>\n",
       "      <td>0</td>\n",
       "      <td>1</td>\n",
       "    </tr>\n",
       "    <tr>\n",
       "      <th>2</th>\n",
       "      <td>0</td>\n",
       "      <td>0</td>\n",
       "      <td>0</td>\n",
       "      <td>4</td>\n",
       "      <td>1</td>\n",
       "      <td>0</td>\n",
       "      <td>0</td>\n",
       "      <td>0</td>\n",
       "      <td>1</td>\n",
       "      <td>0</td>\n",
       "      <td>0</td>\n",
       "      <td>0</td>\n",
       "      <td>1</td>\n",
       "      <td>73.9</td>\n",
       "      <td>280.85</td>\n",
       "      <td>2.46</td>\n",
       "      <td>1</td>\n",
       "      <td>1</td>\n",
       "      <td>1</td>\n",
       "      <td>0</td>\n",
       "      <td>0</td>\n",
       "      <td>0</td>\n",
       "      <td>0</td>\n",
       "      <td>1</td>\n",
       "      <td>0</td>\n",
       "    </tr>\n",
       "    <tr>\n",
       "      <th>3</th>\n",
       "      <td>1</td>\n",
       "      <td>1</td>\n",
       "      <td>0</td>\n",
       "      <td>13</td>\n",
       "      <td>1</td>\n",
       "      <td>0</td>\n",
       "      <td>0</td>\n",
       "      <td>1</td>\n",
       "      <td>1</td>\n",
       "      <td>0</td>\n",
       "      <td>1</td>\n",
       "      <td>1</td>\n",
       "      <td>1</td>\n",
       "      <td>98.0</td>\n",
       "      <td>1237.85</td>\n",
       "      <td>3.27</td>\n",
       "      <td>1</td>\n",
       "      <td>1</td>\n",
       "      <td>1</td>\n",
       "      <td>0</td>\n",
       "      <td>0</td>\n",
       "      <td>0</td>\n",
       "      <td>0</td>\n",
       "      <td>1</td>\n",
       "      <td>0</td>\n",
       "    </tr>\n",
       "    <tr>\n",
       "      <th>4</th>\n",
       "      <td>1</td>\n",
       "      <td>1</td>\n",
       "      <td>0</td>\n",
       "      <td>3</td>\n",
       "      <td>1</td>\n",
       "      <td>0</td>\n",
       "      <td>0</td>\n",
       "      <td>0</td>\n",
       "      <td>0</td>\n",
       "      <td>1</td>\n",
       "      <td>1</td>\n",
       "      <td>0</td>\n",
       "      <td>1</td>\n",
       "      <td>83.9</td>\n",
       "      <td>267.40</td>\n",
       "      <td>2.80</td>\n",
       "      <td>1</td>\n",
       "      <td>0</td>\n",
       "      <td>1</td>\n",
       "      <td>0</td>\n",
       "      <td>0</td>\n",
       "      <td>0</td>\n",
       "      <td>0</td>\n",
       "      <td>0</td>\n",
       "      <td>1</td>\n",
       "    </tr>\n",
       "  </tbody>\n",
       "</table>\n",
       "</div>"
      ],
      "text/plain": [
       "   customer_SeniorCitizen  customer_Partner  customer_Dependents  \\\n",
       "0                       0                 1                    1   \n",
       "1                       0                 0                    0   \n",
       "2                       0                 0                    0   \n",
       "3                       1                 1                    0   \n",
       "4                       1                 1                    0   \n",
       "\n",
       "   customer_tenure  phone_PhoneService  phone_MultipleLines  \\\n",
       "0                9                   1                    0   \n",
       "1                9                   1                    1   \n",
       "2                4                   1                    0   \n",
       "3               13                   1                    0   \n",
       "4                3                   1                    0   \n",
       "\n",
       "   internet_OnlineSecurity  internet_OnlineBackup  internet_DeviceProtection  \\\n",
       "0                        0                      1                          0   \n",
       "1                        0                      0                          0   \n",
       "2                        0                      0                          1   \n",
       "3                        0                      1                          1   \n",
       "4                        0                      0                          0   \n",
       "\n",
       "   internet_TechSupport  internet_StreamingTV  internet_StreamingMovies  \\\n",
       "0                     1                     1                         0   \n",
       "1                     0                     0                         1   \n",
       "2                     0                     0                         0   \n",
       "3                     0                     1                         1   \n",
       "4                     1                     1                         0   \n",
       "\n",
       "   account_PaperlessBilling  account_Charges_Monthly  account_Charges_Total  \\\n",
       "0                         1                     65.6                 593.30   \n",
       "1                         0                     59.9                 542.40   \n",
       "2                         1                     73.9                 280.85   \n",
       "3                         1                     98.0                1237.85   \n",
       "4                         1                     83.9                 267.40   \n",
       "\n",
       "   estimated_daily_charge  Churn_bin  customer_gender_Male  \\\n",
       "0                    2.19          0                     0   \n",
       "1                    2.00          0                     1   \n",
       "2                    2.46          1                     1   \n",
       "3                    3.27          1                     1   \n",
       "4                    2.80          1                     0   \n",
       "\n",
       "   internet_InternetService_Fiber optic  internet_InternetService_No  \\\n",
       "0                                     0                            0   \n",
       "1                                     0                            0   \n",
       "2                                     1                            0   \n",
       "3                                     1                            0   \n",
       "4                                     1                            0   \n",
       "\n",
       "   account_Contract_One year  account_Contract_Two year  \\\n",
       "0                          1                          0   \n",
       "1                          0                          0   \n",
       "2                          0                          0   \n",
       "3                          0                          0   \n",
       "4                          0                          0   \n",
       "\n",
       "   account_PaymentMethod_Credit card (automatic)  \\\n",
       "0                                              0   \n",
       "1                                              0   \n",
       "2                                              0   \n",
       "3                                              0   \n",
       "4                                              0   \n",
       "\n",
       "   account_PaymentMethod_Electronic check  account_PaymentMethod_Mailed check  \n",
       "0                                       0                                   1  \n",
       "1                                       0                                   1  \n",
       "2                                       1                                   0  \n",
       "3                                       1                                   0  \n",
       "4                                       0                                   1  "
      ]
     },
     "execution_count": 54,
     "metadata": {},
     "output_type": "execute_result"
    }
   ],
   "source": [
    "df_encoded.head()"
   ]
  },
  {
   "cell_type": "code",
   "execution_count": 55,
   "id": "49cdc226",
   "metadata": {},
   "outputs": [
    {
     "name": "stdout",
     "output_type": "stream",
     "text": [
      "<class 'pandas.core.frame.DataFrame'>\n",
      "RangeIndex: 7043 entries, 0 to 7042\n",
      "Data columns (total 25 columns):\n",
      " #   Column                                         Non-Null Count  Dtype  \n",
      "---  ------                                         --------------  -----  \n",
      " 0   customer_SeniorCitizen                         7043 non-null   int64  \n",
      " 1   customer_Partner                               7043 non-null   int64  \n",
      " 2   customer_Dependents                            7043 non-null   int64  \n",
      " 3   customer_tenure                                7043 non-null   int64  \n",
      " 4   phone_PhoneService                             7043 non-null   int64  \n",
      " 5   phone_MultipleLines                            7043 non-null   int64  \n",
      " 6   internet_OnlineSecurity                        7043 non-null   int64  \n",
      " 7   internet_OnlineBackup                          7043 non-null   int64  \n",
      " 8   internet_DeviceProtection                      7043 non-null   int64  \n",
      " 9   internet_TechSupport                           7043 non-null   int64  \n",
      " 10  internet_StreamingTV                           7043 non-null   int64  \n",
      " 11  internet_StreamingMovies                       7043 non-null   int64  \n",
      " 12  account_PaperlessBilling                       7043 non-null   int64  \n",
      " 13  account_Charges_Monthly                        7043 non-null   float64\n",
      " 14  account_Charges_Total                          7043 non-null   float64\n",
      " 15  estimated_daily_charge                         7043 non-null   float64\n",
      " 16  Churn_bin                                      7043 non-null   int64  \n",
      " 17  customer_gender_Male                           7043 non-null   int64  \n",
      " 18  internet_InternetService_Fiber optic           7043 non-null   int64  \n",
      " 19  internet_InternetService_No                    7043 non-null   int64  \n",
      " 20  account_Contract_One year                      7043 non-null   int64  \n",
      " 21  account_Contract_Two year                      7043 non-null   int64  \n",
      " 22  account_PaymentMethod_Credit card (automatic)  7043 non-null   int64  \n",
      " 23  account_PaymentMethod_Electronic check         7043 non-null   int64  \n",
      " 24  account_PaymentMethod_Mailed check             7043 non-null   int64  \n",
      "dtypes: float64(3), int64(22)\n",
      "memory usage: 1.3 MB\n"
     ]
    }
   ],
   "source": [
    "df_encoded.info()"
   ]
  },
  {
   "cell_type": "markdown",
   "id": "74c33a46",
   "metadata": {},
   "source": [
    "## Verificación de la Proporción de Cancelación (Churn)"
   ]
  },
  {
   "cell_type": "markdown",
   "id": "c99c7d5b",
   "metadata": {},
   "source": [
    "Calcula la proporción de clientes que cancelaron en relación con los que permanecieron activos. Evalúa si existe un desbalance entre las clases, ya que esto puede impactar en los modelos predictivos y en el análisis de los resultados.\n",
    "\n",
    "🔎 Sugerencia:\n",
    "Puedes usar value_counts() de pandas para obtener esta proporción:\n",
    "Documentación oficial de value_counts()"
   ]
  },
  {
   "cell_type": "code",
   "execution_count": null,
   "id": "0270a344",
   "metadata": {},
   "outputs": [
    {
     "data": {
      "text/html": [
       "<div>\n",
       "<style scoped>\n",
       "    .dataframe tbody tr th:only-of-type {\n",
       "        vertical-align: middle;\n",
       "    }\n",
       "\n",
       "    .dataframe tbody tr th {\n",
       "        vertical-align: top;\n",
       "    }\n",
       "\n",
       "    .dataframe thead th {\n",
       "        text-align: right;\n",
       "    }\n",
       "</style>\n",
       "<table border=\"1\" class=\"dataframe\">\n",
       "  <thead>\n",
       "    <tr style=\"text-align: right;\">\n",
       "      <th></th>\n",
       "      <th>Churn</th>\n",
       "      <th>customer_gender</th>\n",
       "      <th>customer_SeniorCitizen</th>\n",
       "      <th>customer_Partner</th>\n",
       "      <th>customer_Dependents</th>\n",
       "      <th>customer_tenure</th>\n",
       "      <th>phone_PhoneService</th>\n",
       "      <th>phone_MultipleLines</th>\n",
       "      <th>internet_InternetService</th>\n",
       "      <th>internet_OnlineSecurity</th>\n",
       "      <th>...</th>\n",
       "      <th>internet_TechSupport</th>\n",
       "      <th>internet_StreamingTV</th>\n",
       "      <th>internet_StreamingMovies</th>\n",
       "      <th>account_Contract</th>\n",
       "      <th>account_PaperlessBilling</th>\n",
       "      <th>account_PaymentMethod</th>\n",
       "      <th>account_Charges_Monthly</th>\n",
       "      <th>account_Charges_Total</th>\n",
       "      <th>estimated_daily_charge</th>\n",
       "      <th>Churn_bin</th>\n",
       "    </tr>\n",
       "  </thead>\n",
       "  <tbody>\n",
       "    <tr>\n",
       "      <th>0</th>\n",
       "      <td>No</td>\n",
       "      <td>Female</td>\n",
       "      <td>0</td>\n",
       "      <td>1</td>\n",
       "      <td>1</td>\n",
       "      <td>9</td>\n",
       "      <td>1</td>\n",
       "      <td>0</td>\n",
       "      <td>DSL</td>\n",
       "      <td>0</td>\n",
       "      <td>...</td>\n",
       "      <td>1</td>\n",
       "      <td>1</td>\n",
       "      <td>0</td>\n",
       "      <td>One year</td>\n",
       "      <td>1</td>\n",
       "      <td>Mailed check</td>\n",
       "      <td>65.6</td>\n",
       "      <td>593.30</td>\n",
       "      <td>2.19</td>\n",
       "      <td>0</td>\n",
       "    </tr>\n",
       "    <tr>\n",
       "      <th>1</th>\n",
       "      <td>No</td>\n",
       "      <td>Male</td>\n",
       "      <td>0</td>\n",
       "      <td>0</td>\n",
       "      <td>0</td>\n",
       "      <td>9</td>\n",
       "      <td>1</td>\n",
       "      <td>1</td>\n",
       "      <td>DSL</td>\n",
       "      <td>0</td>\n",
       "      <td>...</td>\n",
       "      <td>0</td>\n",
       "      <td>0</td>\n",
       "      <td>1</td>\n",
       "      <td>Month-to-month</td>\n",
       "      <td>0</td>\n",
       "      <td>Mailed check</td>\n",
       "      <td>59.9</td>\n",
       "      <td>542.40</td>\n",
       "      <td>2.00</td>\n",
       "      <td>0</td>\n",
       "    </tr>\n",
       "    <tr>\n",
       "      <th>2</th>\n",
       "      <td>Yes</td>\n",
       "      <td>Male</td>\n",
       "      <td>0</td>\n",
       "      <td>0</td>\n",
       "      <td>0</td>\n",
       "      <td>4</td>\n",
       "      <td>1</td>\n",
       "      <td>0</td>\n",
       "      <td>Fiber optic</td>\n",
       "      <td>0</td>\n",
       "      <td>...</td>\n",
       "      <td>0</td>\n",
       "      <td>0</td>\n",
       "      <td>0</td>\n",
       "      <td>Month-to-month</td>\n",
       "      <td>1</td>\n",
       "      <td>Electronic check</td>\n",
       "      <td>73.9</td>\n",
       "      <td>280.85</td>\n",
       "      <td>2.46</td>\n",
       "      <td>1</td>\n",
       "    </tr>\n",
       "    <tr>\n",
       "      <th>3</th>\n",
       "      <td>Yes</td>\n",
       "      <td>Male</td>\n",
       "      <td>1</td>\n",
       "      <td>1</td>\n",
       "      <td>0</td>\n",
       "      <td>13</td>\n",
       "      <td>1</td>\n",
       "      <td>0</td>\n",
       "      <td>Fiber optic</td>\n",
       "      <td>0</td>\n",
       "      <td>...</td>\n",
       "      <td>0</td>\n",
       "      <td>1</td>\n",
       "      <td>1</td>\n",
       "      <td>Month-to-month</td>\n",
       "      <td>1</td>\n",
       "      <td>Electronic check</td>\n",
       "      <td>98.0</td>\n",
       "      <td>1237.85</td>\n",
       "      <td>3.27</td>\n",
       "      <td>1</td>\n",
       "    </tr>\n",
       "    <tr>\n",
       "      <th>4</th>\n",
       "      <td>Yes</td>\n",
       "      <td>Female</td>\n",
       "      <td>1</td>\n",
       "      <td>1</td>\n",
       "      <td>0</td>\n",
       "      <td>3</td>\n",
       "      <td>1</td>\n",
       "      <td>0</td>\n",
       "      <td>Fiber optic</td>\n",
       "      <td>0</td>\n",
       "      <td>...</td>\n",
       "      <td>1</td>\n",
       "      <td>1</td>\n",
       "      <td>0</td>\n",
       "      <td>Month-to-month</td>\n",
       "      <td>1</td>\n",
       "      <td>Mailed check</td>\n",
       "      <td>83.9</td>\n",
       "      <td>267.40</td>\n",
       "      <td>2.80</td>\n",
       "      <td>1</td>\n",
       "    </tr>\n",
       "  </tbody>\n",
       "</table>\n",
       "<p>5 rows × 22 columns</p>\n",
       "</div>"
      ],
      "text/plain": [
       "  Churn customer_gender  customer_SeniorCitizen  customer_Partner  \\\n",
       "0    No          Female                       0                 1   \n",
       "1    No            Male                       0                 0   \n",
       "2   Yes            Male                       0                 0   \n",
       "3   Yes            Male                       1                 1   \n",
       "4   Yes          Female                       1                 1   \n",
       "\n",
       "   customer_Dependents  customer_tenure  phone_PhoneService  \\\n",
       "0                    1                9                   1   \n",
       "1                    0                9                   1   \n",
       "2                    0                4                   1   \n",
       "3                    0               13                   1   \n",
       "4                    0                3                   1   \n",
       "\n",
       "   phone_MultipleLines internet_InternetService  internet_OnlineSecurity  ...  \\\n",
       "0                    0                      DSL                        0  ...   \n",
       "1                    1                      DSL                        0  ...   \n",
       "2                    0              Fiber optic                        0  ...   \n",
       "3                    0              Fiber optic                        0  ...   \n",
       "4                    0              Fiber optic                        0  ...   \n",
       "\n",
       "   internet_TechSupport  internet_StreamingTV  internet_StreamingMovies  \\\n",
       "0                     1                     1                         0   \n",
       "1                     0                     0                         1   \n",
       "2                     0                     0                         0   \n",
       "3                     0                     1                         1   \n",
       "4                     1                     1                         0   \n",
       "\n",
       "   account_Contract  account_PaperlessBilling account_PaymentMethod  \\\n",
       "0          One year                         1          Mailed check   \n",
       "1    Month-to-month                         0          Mailed check   \n",
       "2    Month-to-month                         1      Electronic check   \n",
       "3    Month-to-month                         1      Electronic check   \n",
       "4    Month-to-month                         1          Mailed check   \n",
       "\n",
       "   account_Charges_Monthly account_Charges_Total  estimated_daily_charge  \\\n",
       "0                     65.6                593.30                    2.19   \n",
       "1                     59.9                542.40                    2.00   \n",
       "2                     73.9                280.85                    2.46   \n",
       "3                     98.0               1237.85                    3.27   \n",
       "4                     83.9                267.40                    2.80   \n",
       "\n",
       "   Churn_bin  \n",
       "0          0  \n",
       "1          0  \n",
       "2          1  \n",
       "3          1  \n",
       "4          1  \n",
       "\n",
       "[5 rows x 22 columns]"
      ]
     },
     "execution_count": 29,
     "metadata": {},
     "output_type": "execute_result"
    }
   ],
   "source": [
    "df.head()"
   ]
  },
  {
   "cell_type": "code",
   "execution_count": 30,
   "id": "44486a5e",
   "metadata": {},
   "outputs": [
    {
     "name": "stdout",
     "output_type": "stream",
     "text": [
      "Conteo de clases:\n",
      " Churn_bin\n",
      "0    5174\n",
      "1    1869\n",
      "Name: count, dtype: int64\n"
     ]
    }
   ],
   "source": [
    "# Conteo absoluto\n",
    "conteo_churn = df_encoded[\"Churn_bin\"].value_counts()\n",
    "print(\"Conteo de clases:\\n\", conteo_churn)"
   ]
  },
  {
   "cell_type": "code",
   "execution_count": 31,
   "id": "f8d4420f",
   "metadata": {},
   "outputs": [
    {
     "name": "stdout",
     "output_type": "stream",
     "text": [
      "\n",
      "Porcentaje de clases:\n",
      " Churn_bin\n",
      "0    73.463013\n",
      "1    26.536987\n",
      "Name: proportion, dtype: float64\n"
     ]
    }
   ],
   "source": [
    "# Porcentaje por clase\n",
    "porcentaje_churn = df_encoded[\"Churn_bin\"].value_counts(normalize=True) * 100\n",
    "print(\"\\nPorcentaje de clases:\\n\", porcentaje_churn)"
   ]
  },
  {
   "cell_type": "code",
   "execution_count": 32,
   "id": "3d8df902",
   "metadata": {},
   "outputs": [
    {
     "data": {
      "text/plain": [
       "array([0, 1])"
      ]
     },
     "execution_count": 32,
     "metadata": {},
     "output_type": "execute_result"
    }
   ],
   "source": [
    "df_encoded[\"Churn_bin\"].unique()"
   ]
  },
  {
   "cell_type": "code",
   "execution_count": 33,
   "id": "7e154cb7",
   "metadata": {},
   "outputs": [
    {
     "data": {
      "text/plain": [
       "array([0, 1])"
      ]
     },
     "execution_count": 33,
     "metadata": {},
     "output_type": "execute_result"
    }
   ],
   "source": [
    "df[\"Churn_bin\"].unique()"
   ]
  },
  {
   "cell_type": "markdown",
   "id": "c629b572",
   "metadata": {},
   "source": [
    "## Balanceo de Clases (opcional)"
   ]
  },
  {
   "cell_type": "markdown",
   "id": "8f37c252",
   "metadata": {},
   "source": [
    "Si deseas profundizar en el análisis, aplica técnicas de balanceo como undersampling o oversampling. En situaciones de fuerte desbalanceo, herramientas como SMOTE pueden ser útiles para generar ejemplos sintéticos de la clase minoritaria.\n",
    "\n",
    "🔎 Sugerencia:\n",
    "Puedes leer más sobre cómo manejar el desbalanceo de clases en este artículo:\n",
    "Artículo en Alura sobre desbalanceo de datos"
   ]
  },
  {
   "cell_type": "markdown",
   "id": "e565910d",
   "metadata": {},
   "source": [
    "1. Undersampling\n",
    "    - Elimina ejemplos de la clase mayoritaria (0) para igualar el número de cancelaciones.\n",
    "\n",
    "    - Rápido pero puede hacerte perder información.\n",
    "\n",
    "2. Oversampling (SMOTE) ✅ RECOMENDADO\n",
    "SMOTE (Synthetic Minority Oversampling Technique) crea datos sintéticos de la clase minoritaria.\n",
    "\n",
    "Primero instala imblearn si no lo tienes:\n",
    "\n",
    "!pip install imbalanced-learn"
   ]
  },
  {
   "cell_type": "code",
   "execution_count": 56,
   "id": "3d88ad41",
   "metadata": {},
   "outputs": [
    {
     "name": "stdout",
     "output_type": "stream",
     "text": [
      "Distribución original: Counter({0: 3622, 1: 1308})\n",
      "Distribución balanceada: Counter({0: 3622, 1: 3622})\n"
     ]
    }
   ],
   "source": [
    "from sklearn.model_selection import train_test_split\n",
    "from imblearn.over_sampling import SMOTE\n",
    "from collections import Counter\n",
    "\n",
    "# Separar features y target\n",
    "X = df_encoded.drop(\"Churn_bin\", axis=1)\n",
    "y = df_encoded[\"Churn_bin\"]\n",
    "\n",
    "# Separar en entrenamiento y prueba (estratificado)\n",
    "X_train, X_test, y_train, y_test = train_test_split(\n",
    "    X, y, test_size=0.3, random_state=42, stratify=y\n",
    ")\n",
    "\n",
    "# Aplicar SMOTE\n",
    "smote = SMOTE(random_state=42)\n",
    "X_train_bal, y_train_bal = smote.fit_resample(X_train, y_train)\n",
    "\n",
    "# Verificar la nueva distribución\n",
    "print(\"Distribución original:\", Counter(y_train))\n",
    "print(\"Distribución balanceada:\", Counter(y_train_bal))"
   ]
  },
  {
   "cell_type": "markdown",
   "id": "ca16f81e",
   "metadata": {},
   "source": [
    "## Normalización o Estandarización (si es necesario)"
   ]
  },
  {
   "cell_type": "markdown",
   "id": "0db0ca93",
   "metadata": {},
   "source": [
    "Evalúa la necesidad de normalizar o estandarizar los datos, según los modelos que se aplicarán. Modelos basados en distancia, como KNN, SVM, Regresión Logística y Redes Neuronales, requieren este preprocesamiento. Por otro lado, modelos basados en árboles, como Decision Tree, Random Forest y XGBoost, no son sensibles a la escala de los datos.\n",
    "\n",
    "🔎 Sugerencia:\n",
    "Puedes leer más sobre normalización y estandarización de datos en este artículo:\n",
    "Artículo en Medium sobre normalización y estandarización en Machine Learning\n",
    "\n",
    "**Cómo normalizar o estandarizar si decides hacerlo**\n",
    "\n",
    "Normalización (Min-Max scaling):\n",
    "\n",
    "Escala los datos para que estén entre 0 y 1"
   ]
  },
  {
   "cell_type": "code",
   "execution_count": 59,
   "id": "7941a567",
   "metadata": {},
   "outputs": [],
   "source": [
    "from sklearn.preprocessing import MinMaxScaler\n",
    "\n",
    "scaler = MinMaxScaler()\n",
    "X_scaled = scaler.fit_transform(X)"
   ]
  },
  {
   "cell_type": "markdown",
   "id": "57564747",
   "metadata": {},
   "source": [
    "**Estandarización (Z-score scaling):**\n",
    "Escala los datos para que tengan media 0 y desviación estándar 1"
   ]
  },
  {
   "cell_type": "code",
   "execution_count": 60,
   "id": "8363b036",
   "metadata": {},
   "outputs": [
    {
     "data": {
      "text/plain": [
       "'from sklearn.preprocessing import StandardScaler\\n\\nscaler = StandardScaler()\\nX_scaled = scaler.fit_transform(X)'"
      ]
     },
     "execution_count": 60,
     "metadata": {},
     "output_type": "execute_result"
    }
   ],
   "source": [
    "'''from sklearn.preprocessing import StandardScaler\n",
    "\n",
    "scaler = StandardScaler()\n",
    "X_scaled = scaler.fit_transform(X)'''"
   ]
  },
  {
   "cell_type": "markdown",
   "id": "5b0cb60a",
   "metadata": {},
   "source": [
    "# 🎯 Correlación y Selección de Variables"
   ]
  },
  {
   "cell_type": "markdown",
   "id": "cc3c8675",
   "metadata": {},
   "source": [
    "## Análisis de Correlación"
   ]
  },
  {
   "cell_type": "markdown",
   "id": "f8b11e06",
   "metadata": {},
   "source": [
    "Visualiza la matriz de correlación para identificar relaciones entre las variables numéricas. Presta especial atención a las variables que muestran una mayor correlación con la cancelación, ya que estas pueden ser fuertes candidatas para el modelo predictivo."
   ]
  },
  {
   "cell_type": "code",
   "execution_count": 61,
   "id": "4d4ba791",
   "metadata": {},
   "outputs": [],
   "source": [
    "import matplotlib.pyplot as plt\n",
    "import seaborn as sns"
   ]
  },
  {
   "cell_type": "code",
   "execution_count": 62,
   "id": "42f6bd3d",
   "metadata": {},
   "outputs": [
    {
     "data": {
      "text/html": [
       "<div>\n",
       "<style scoped>\n",
       "    .dataframe tbody tr th:only-of-type {\n",
       "        vertical-align: middle;\n",
       "    }\n",
       "\n",
       "    .dataframe tbody tr th {\n",
       "        vertical-align: top;\n",
       "    }\n",
       "\n",
       "    .dataframe thead th {\n",
       "        text-align: right;\n",
       "    }\n",
       "</style>\n",
       "<table border=\"1\" class=\"dataframe\">\n",
       "  <thead>\n",
       "    <tr style=\"text-align: right;\">\n",
       "      <th></th>\n",
       "      <th>customer_SeniorCitizen</th>\n",
       "      <th>customer_Partner</th>\n",
       "      <th>customer_Dependents</th>\n",
       "      <th>customer_tenure</th>\n",
       "      <th>phone_PhoneService</th>\n",
       "      <th>phone_MultipleLines</th>\n",
       "      <th>internet_OnlineSecurity</th>\n",
       "      <th>internet_OnlineBackup</th>\n",
       "      <th>internet_DeviceProtection</th>\n",
       "      <th>internet_TechSupport</th>\n",
       "      <th>internet_StreamingTV</th>\n",
       "      <th>internet_StreamingMovies</th>\n",
       "      <th>account_PaperlessBilling</th>\n",
       "      <th>account_Charges_Monthly</th>\n",
       "      <th>account_Charges_Total</th>\n",
       "      <th>estimated_daily_charge</th>\n",
       "      <th>Churn_bin</th>\n",
       "      <th>customer_gender_Male</th>\n",
       "      <th>internet_InternetService_Fiber optic</th>\n",
       "      <th>internet_InternetService_No</th>\n",
       "      <th>account_Contract_One year</th>\n",
       "      <th>account_Contract_Two year</th>\n",
       "      <th>account_PaymentMethod_Credit card (automatic)</th>\n",
       "      <th>account_PaymentMethod_Electronic check</th>\n",
       "      <th>account_PaymentMethod_Mailed check</th>\n",
       "    </tr>\n",
       "  </thead>\n",
       "  <tbody>\n",
       "    <tr>\n",
       "      <th>customer_SeniorCitizen</th>\n",
       "      <td>1.000000</td>\n",
       "      <td>0.016479</td>\n",
       "      <td>-0.211185</td>\n",
       "      <td>0.016567</td>\n",
       "      <td>0.008576</td>\n",
       "      <td>0.142948</td>\n",
       "      <td>-0.038653</td>\n",
       "      <td>0.066572</td>\n",
       "      <td>0.059428</td>\n",
       "      <td>-0.060625</td>\n",
       "      <td>0.105378</td>\n",
       "      <td>0.120176</td>\n",
       "      <td>0.156530</td>\n",
       "      <td>0.220173</td>\n",
       "      <td>0.103006</td>\n",
       "      <td>0.220147</td>\n",
       "      <td>0.150889</td>\n",
       "      <td>-0.001874</td>\n",
       "      <td>0.255338</td>\n",
       "      <td>-0.182742</td>\n",
       "      <td>-0.046262</td>\n",
       "      <td>-0.117000</td>\n",
       "      <td>-0.024135</td>\n",
       "      <td>0.171718</td>\n",
       "      <td>-0.153477</td>\n",
       "    </tr>\n",
       "    <tr>\n",
       "      <th>customer_Partner</th>\n",
       "      <td>0.016479</td>\n",
       "      <td>1.000000</td>\n",
       "      <td>0.452676</td>\n",
       "      <td>0.379697</td>\n",
       "      <td>0.017706</td>\n",
       "      <td>0.142057</td>\n",
       "      <td>0.143106</td>\n",
       "      <td>0.141498</td>\n",
       "      <td>0.153786</td>\n",
       "      <td>0.119999</td>\n",
       "      <td>0.124666</td>\n",
       "      <td>0.117412</td>\n",
       "      <td>-0.014877</td>\n",
       "      <td>0.096848</td>\n",
       "      <td>0.317504</td>\n",
       "      <td>0.096909</td>\n",
       "      <td>-0.150448</td>\n",
       "      <td>-0.001808</td>\n",
       "      <td>0.000304</td>\n",
       "      <td>0.000615</td>\n",
       "      <td>0.082783</td>\n",
       "      <td>0.248091</td>\n",
       "      <td>0.082029</td>\n",
       "      <td>-0.083852</td>\n",
       "      <td>-0.095125</td>\n",
       "    </tr>\n",
       "    <tr>\n",
       "      <th>customer_Dependents</th>\n",
       "      <td>-0.211185</td>\n",
       "      <td>0.452676</td>\n",
       "      <td>1.000000</td>\n",
       "      <td>0.159712</td>\n",
       "      <td>-0.001762</td>\n",
       "      <td>-0.024526</td>\n",
       "      <td>0.080972</td>\n",
       "      <td>0.023671</td>\n",
       "      <td>0.013963</td>\n",
       "      <td>0.063268</td>\n",
       "      <td>-0.016558</td>\n",
       "      <td>-0.039741</td>\n",
       "      <td>-0.111377</td>\n",
       "      <td>-0.113890</td>\n",
       "      <td>0.062078</td>\n",
       "      <td>-0.113939</td>\n",
       "      <td>-0.164221</td>\n",
       "      <td>0.010517</td>\n",
       "      <td>-0.165818</td>\n",
       "      <td>0.139812</td>\n",
       "      <td>0.068368</td>\n",
       "      <td>0.204613</td>\n",
       "      <td>0.060267</td>\n",
       "      <td>-0.150642</td>\n",
       "      <td>0.059071</td>\n",
       "    </tr>\n",
       "    <tr>\n",
       "      <th>customer_tenure</th>\n",
       "      <td>0.016567</td>\n",
       "      <td>0.379697</td>\n",
       "      <td>0.159712</td>\n",
       "      <td>1.000000</td>\n",
       "      <td>0.008448</td>\n",
       "      <td>0.331941</td>\n",
       "      <td>0.327203</td>\n",
       "      <td>0.360277</td>\n",
       "      <td>0.360653</td>\n",
       "      <td>0.324221</td>\n",
       "      <td>0.279756</td>\n",
       "      <td>0.286111</td>\n",
       "      <td>0.006152</td>\n",
       "      <td>0.247900</td>\n",
       "      <td>0.826178</td>\n",
       "      <td>0.247910</td>\n",
       "      <td>-0.352229</td>\n",
       "      <td>0.005106</td>\n",
       "      <td>0.019720</td>\n",
       "      <td>-0.039062</td>\n",
       "      <td>0.202570</td>\n",
       "      <td>0.558533</td>\n",
       "      <td>0.233006</td>\n",
       "      <td>-0.208363</td>\n",
       "      <td>-0.233852</td>\n",
       "    </tr>\n",
       "    <tr>\n",
       "      <th>phone_PhoneService</th>\n",
       "      <td>0.008576</td>\n",
       "      <td>0.017706</td>\n",
       "      <td>-0.001762</td>\n",
       "      <td>0.008448</td>\n",
       "      <td>1.000000</td>\n",
       "      <td>0.279690</td>\n",
       "      <td>-0.092893</td>\n",
       "      <td>-0.052312</td>\n",
       "      <td>-0.071227</td>\n",
       "      <td>-0.096340</td>\n",
       "      <td>-0.022574</td>\n",
       "      <td>-0.032959</td>\n",
       "      <td>0.016505</td>\n",
       "      <td>0.247398</td>\n",
       "      <td>0.113214</td>\n",
       "      <td>0.247361</td>\n",
       "      <td>0.011942</td>\n",
       "      <td>-0.006488</td>\n",
       "      <td>0.289999</td>\n",
       "      <td>0.172209</td>\n",
       "      <td>-0.002791</td>\n",
       "      <td>0.003519</td>\n",
       "      <td>-0.007721</td>\n",
       "      <td>0.003062</td>\n",
       "      <td>-0.003319</td>\n",
       "    </tr>\n",
       "  </tbody>\n",
       "</table>\n",
       "</div>"
      ],
      "text/plain": [
       "                        customer_SeniorCitizen  customer_Partner  \\\n",
       "customer_SeniorCitizen                1.000000          0.016479   \n",
       "customer_Partner                      0.016479          1.000000   \n",
       "customer_Dependents                  -0.211185          0.452676   \n",
       "customer_tenure                       0.016567          0.379697   \n",
       "phone_PhoneService                    0.008576          0.017706   \n",
       "\n",
       "                        customer_Dependents  customer_tenure  \\\n",
       "customer_SeniorCitizen            -0.211185         0.016567   \n",
       "customer_Partner                   0.452676         0.379697   \n",
       "customer_Dependents                1.000000         0.159712   \n",
       "customer_tenure                    0.159712         1.000000   \n",
       "phone_PhoneService                -0.001762         0.008448   \n",
       "\n",
       "                        phone_PhoneService  phone_MultipleLines  \\\n",
       "customer_SeniorCitizen            0.008576             0.142948   \n",
       "customer_Partner                  0.017706             0.142057   \n",
       "customer_Dependents              -0.001762            -0.024526   \n",
       "customer_tenure                   0.008448             0.331941   \n",
       "phone_PhoneService                1.000000             0.279690   \n",
       "\n",
       "                        internet_OnlineSecurity  internet_OnlineBackup  \\\n",
       "customer_SeniorCitizen                -0.038653               0.066572   \n",
       "customer_Partner                       0.143106               0.141498   \n",
       "customer_Dependents                    0.080972               0.023671   \n",
       "customer_tenure                        0.327203               0.360277   \n",
       "phone_PhoneService                    -0.092893              -0.052312   \n",
       "\n",
       "                        internet_DeviceProtection  internet_TechSupport  \\\n",
       "customer_SeniorCitizen                   0.059428             -0.060625   \n",
       "customer_Partner                         0.153786              0.119999   \n",
       "customer_Dependents                      0.013963              0.063268   \n",
       "customer_tenure                          0.360653              0.324221   \n",
       "phone_PhoneService                      -0.071227             -0.096340   \n",
       "\n",
       "                        internet_StreamingTV  internet_StreamingMovies  \\\n",
       "customer_SeniorCitizen              0.105378                  0.120176   \n",
       "customer_Partner                    0.124666                  0.117412   \n",
       "customer_Dependents                -0.016558                 -0.039741   \n",
       "customer_tenure                     0.279756                  0.286111   \n",
       "phone_PhoneService                 -0.022574                 -0.032959   \n",
       "\n",
       "                        account_PaperlessBilling  account_Charges_Monthly  \\\n",
       "customer_SeniorCitizen                  0.156530                 0.220173   \n",
       "customer_Partner                       -0.014877                 0.096848   \n",
       "customer_Dependents                    -0.111377                -0.113890   \n",
       "customer_tenure                         0.006152                 0.247900   \n",
       "phone_PhoneService                      0.016505                 0.247398   \n",
       "\n",
       "                        account_Charges_Total  estimated_daily_charge  \\\n",
       "customer_SeniorCitizen               0.103006                0.220147   \n",
       "customer_Partner                     0.317504                0.096909   \n",
       "customer_Dependents                  0.062078               -0.113939   \n",
       "customer_tenure                      0.826178                0.247910   \n",
       "phone_PhoneService                   0.113214                0.247361   \n",
       "\n",
       "                        Churn_bin  customer_gender_Male  \\\n",
       "customer_SeniorCitizen   0.150889             -0.001874   \n",
       "customer_Partner        -0.150448             -0.001808   \n",
       "customer_Dependents     -0.164221              0.010517   \n",
       "customer_tenure         -0.352229              0.005106   \n",
       "phone_PhoneService       0.011942             -0.006488   \n",
       "\n",
       "                        internet_InternetService_Fiber optic  \\\n",
       "customer_SeniorCitizen                              0.255338   \n",
       "customer_Partner                                    0.000304   \n",
       "customer_Dependents                                -0.165818   \n",
       "customer_tenure                                     0.019720   \n",
       "phone_PhoneService                                  0.289999   \n",
       "\n",
       "                        internet_InternetService_No  \\\n",
       "customer_SeniorCitizen                    -0.182742   \n",
       "customer_Partner                           0.000615   \n",
       "customer_Dependents                        0.139812   \n",
       "customer_tenure                           -0.039062   \n",
       "phone_PhoneService                         0.172209   \n",
       "\n",
       "                        account_Contract_One year  account_Contract_Two year  \\\n",
       "customer_SeniorCitizen                  -0.046262                  -0.117000   \n",
       "customer_Partner                         0.082783                   0.248091   \n",
       "customer_Dependents                      0.068368                   0.204613   \n",
       "customer_tenure                          0.202570                   0.558533   \n",
       "phone_PhoneService                      -0.002791                   0.003519   \n",
       "\n",
       "                        account_PaymentMethod_Credit card (automatic)  \\\n",
       "customer_SeniorCitizen                                      -0.024135   \n",
       "customer_Partner                                             0.082029   \n",
       "customer_Dependents                                          0.060267   \n",
       "customer_tenure                                              0.233006   \n",
       "phone_PhoneService                                          -0.007721   \n",
       "\n",
       "                        account_PaymentMethod_Electronic check  \\\n",
       "customer_SeniorCitizen                                0.171718   \n",
       "customer_Partner                                     -0.083852   \n",
       "customer_Dependents                                  -0.150642   \n",
       "customer_tenure                                      -0.208363   \n",
       "phone_PhoneService                                    0.003062   \n",
       "\n",
       "                        account_PaymentMethod_Mailed check  \n",
       "customer_SeniorCitizen                           -0.153477  \n",
       "customer_Partner                                 -0.095125  \n",
       "customer_Dependents                               0.059071  \n",
       "customer_tenure                                  -0.233852  \n",
       "phone_PhoneService                               -0.003319  "
      ]
     },
     "execution_count": 62,
     "metadata": {},
     "output_type": "execute_result"
    }
   ],
   "source": [
    "# Calcular matriz de correlación\n",
    "corr_matrix = df_encoded.corr()\n",
    "corr_matrix.head()"
   ]
  },
  {
   "cell_type": "code",
   "execution_count": 63,
   "id": "690e9e2a",
   "metadata": {},
   "outputs": [
    {
     "name": "stdout",
     "output_type": "stream",
     "text": [
      "Correlación con Churn_bin:\n",
      " Churn_bin                                        1.000000\n",
      "internet_InternetService_Fiber optic             0.308020\n",
      "account_PaymentMethod_Electronic check           0.301919\n",
      "estimated_daily_charge                           0.193412\n",
      "account_Charges_Monthly                          0.193356\n",
      "account_PaperlessBilling                         0.191825\n",
      "customer_SeniorCitizen                           0.150889\n",
      "internet_StreamingTV                             0.063228\n",
      "internet_StreamingMovies                         0.061382\n",
      "phone_MultipleLines                              0.040102\n",
      "phone_PhoneService                               0.011942\n",
      "customer_gender_Male                            -0.008612\n",
      "internet_DeviceProtection                       -0.066160\n",
      "internet_OnlineBackup                           -0.082255\n",
      "account_PaymentMethod_Mailed check              -0.091683\n",
      "account_PaymentMethod_Credit card (automatic)   -0.134302\n",
      "customer_Partner                                -0.150448\n",
      "customer_Dependents                             -0.164221\n",
      "internet_TechSupport                            -0.164674\n",
      "internet_OnlineSecurity                         -0.171226\n",
      "account_Contract_One year                       -0.177820\n",
      "account_Charges_Total                           -0.198324\n",
      "internet_InternetService_No                     -0.227890\n",
      "account_Contract_Two year                       -0.302253\n",
      "customer_tenure                                 -0.352229\n",
      "Name: Churn_bin, dtype: float64\n"
     ]
    }
   ],
   "source": [
    "# Correlación con la variable objetivo\n",
    "corr_target = corr_matrix['Churn_bin'].sort_values(ascending=False)\n",
    "print(\"Correlación con Churn_bin:\\n\", corr_target)"
   ]
  },
  {
   "cell_type": "code",
   "execution_count": 64,
   "id": "97ffd914",
   "metadata": {},
   "outputs": [
    {
     "data": {
      "image/png": "[encoded data removed]",
      "text/plain": [
       "<Figure size 1600x1200 with 2 Axes>"
      ]
     },
     "metadata": {},
     "output_type": "display_data"
    }
   ],
   "source": [
    "# Mostrar mapa de calor\n",
    "plt.figure(figsize=(16, 12))\n",
    "sns.heatmap(corr_matrix, annot=False, cmap='coolwarm', fmt=\".2f\", linewidths=0.5)\n",
    "plt.title('Matriz de correlación de variables')\n",
    "plt.show()"
   ]
  },
  {
   "cell_type": "code",
   "execution_count": 65,
   "id": "dd21a94a",
   "metadata": {},
   "outputs": [
    {
     "name": "stdout",
     "output_type": "stream",
     "text": [
      "\n",
      "Variables con correlación fuerte con Churn_bin:\n",
      "Churn_bin                                 1.000000\n",
      "internet_InternetService_Fiber optic      0.308020\n",
      "account_PaymentMethod_Electronic check    0.301919\n",
      "internet_InternetService_No              -0.227890\n",
      "account_Contract_Two year                -0.302253\n",
      "customer_tenure                          -0.352229\n",
      "Name: Churn_bin, dtype: float64\n"
     ]
    }
   ],
   "source": [
    "# Mostrar variables con correlación fuerte (mayor a 0.2 o menor a -0.2)\n",
    "print(\"\\nVariables con correlación fuerte con Churn_bin:\")\n",
    "print(corr_target[abs(corr_target) > 0.2])\n"
   ]
  },
  {
   "cell_type": "markdown",
   "id": "5c848165",
   "metadata": {},
   "source": [
    "## Análisis Dirigido"
   ]
  },
  {
   "cell_type": "markdown",
   "id": "649dc841",
   "metadata": {},
   "source": [
    "Investiga cómo variables específicas se relacionan con la cancelación, tales como:\n",
    "\n",
    "- Tiempo de contrato × Cancelación\n",
    "\n",
    "- Gasto total × Cancelación\n",
    "\n",
    "Utiliza gráficos como boxplots o scatter plots para visualizar patrones y posibles tendencias."
   ]
  },
  {
   "cell_type": "code",
   "execution_count": 66,
   "id": "a9a70183",
   "metadata": {},
   "outputs": [
    {
     "data": {
      "image/png": "[encoded data removed]",
      "text/plain": [
       "<Figure size 800x600 with 1 Axes>"
      ]
     },
     "metadata": {},
     "output_type": "display_data"
    }
   ],
   "source": [
    "plt.figure(figsize=(8,6))\n",
    "sns.boxplot(x='Churn_bin', y='customer_tenure', data=df_encoded)\n",
    "plt.xticks([0,1], ['No Canceló', 'Canceló'])\n",
    "plt.title('Tiempo de contrato vs Cancelación')\n",
    "plt.xlabel('Cancelación')\n",
    "plt.ylabel('Tiempo de contrato (meses)')\n",
    "plt.show()"
   ]
  },
  {
   "cell_type": "code",
   "execution_count": 67,
   "id": "b374a6fd",
   "metadata": {},
   "outputs": [
    {
     "data": {
      "image/png": "[encoded data removed]",
      "text/plain": [
       "<Figure size 800x600 with 1 Axes>"
      ]
     },
     "metadata": {},
     "output_type": "display_data"
    }
   ],
   "source": [
    "plt.figure(figsize=(8,6))\n",
    "sns.boxplot(x='Churn_bin', y='account_Charges_Total', data=df_encoded)\n",
    "plt.xticks([0,1], ['No Canceló', 'Canceló'])\n",
    "plt.title('Gasto total vs Cancelación')\n",
    "plt.xlabel('Cancelación')\n",
    "plt.ylabel('Gasto total ($)')\n",
    "plt.show()"
   ]
  },
  {
   "cell_type": "markdown",
   "id": "f16a1f2d",
   "metadata": {},
   "source": [
    "# 🤖 Modelado Predictivo"
   ]
  },
  {
   "cell_type": "markdown",
   "id": "57a5880f",
   "metadata": {},
   "source": [
    "## Separación de Datos"
   ]
  },
  {
   "cell_type": "markdown",
   "id": "e2164f20",
   "metadata": {},
   "source": [
    "Divide el conjunto de datos en entrenamiento y prueba para evaluar el rendimiento del modelo. Una división común es 70% para entrenamiento y 30% para prueba, o 80/20, dependiendo del tamaño de la base de datos."
   ]
  },
  {
   "cell_type": "code",
   "execution_count": 72,
   "id": "23262521",
   "metadata": {},
   "outputs": [
    {
     "name": "stdout",
     "output_type": "stream",
     "text": [
      "Tamaño conjunto entrenamiento: 4930 muestras\n",
      "Tamaño conjunto prueba: 2113 muestras\n"
     ]
    }
   ],
   "source": [
    "# Definir variables predictoras (features) y objetivo (target)\n",
    "X = df_encoded.drop('Churn_bin', axis=1)  # Todas menos la columna objetivo\n",
    "y = df_encoded['Churn_bin']                # Variable objetivo\n",
    "\n",
    "# Separar en conjunto de entrenamiento y prueba\n",
    "# stratify=y para mantener la proporción de clases en ambos conjuntos\n",
    "X_train, X_test, y_train, y_test = train_test_split(\n",
    "    X, y, \n",
    "    test_size=0.3,       # 30% prueba, 70% entrenamiento\n",
    "    random_state=42,     # Para reproducibilidad\n",
    "    stratify=y           # Mantiene la proporción de clases igual en train y test\n",
    ")\n",
    "\n",
    "# Verificar tamaños\n",
    "print(f'Tamaño conjunto entrenamiento: {X_train.shape[0]} muestras')\n",
    "print(f'Tamaño conjunto prueba: {X_test.shape[0]} muestras')\n"
   ]
  },
  {
   "cell_type": "code",
   "execution_count": 73,
   "id": "8a39ae56",
   "metadata": {},
   "outputs": [
    {
     "name": "stdout",
     "output_type": "stream",
     "text": [
      "Tamaño conjunto entrenamiento: 4930 muestras (70.00%)\n",
      "Tamaño conjunto prueba: 2113 muestras (30.00%)\n"
     ]
    }
   ],
   "source": [
    "total = X.shape[0]\n",
    "\n",
    "print(f'Tamaño conjunto entrenamiento: {X_train.shape[0]} muestras ({(X_train.shape[0]/total)*100:.2f}%)')\n",
    "print(f'Tamaño conjunto prueba: {X_test.shape[0]} muestras ({(X_test.shape[0]/total)*100:.2f}%)')\n"
   ]
  },
  {
   "cell_type": "markdown",
   "id": "0fd5e0d0",
   "metadata": {},
   "source": [
    "## Creación de Modelos"
   ]
  },
  {
   "cell_type": "markdown",
   "id": "809d4187",
   "metadata": {},
   "source": [
    "Crea al menos dos modelos diferentes para predecir la cancelación de clientes.\n",
    "\n",
    "- Un modelo puede requerir normalización, como Regresión Logística o KNN.\n",
    "\n",
    "- El otro modelo puede no requerir normalización, como Árbol de Decisión o Random Forest.\n",
    "\n",
    "💡 La decisión de aplicar o no la normalización depende de los modelos seleccionados. Ambos modelos pueden ser creados sin normalización, pero también es una opción combinar modelos con y sin normalización.\n",
    "\n",
    "**Justificación:**\n",
    "\n",
    "- Regresión Logística / KNN: Estos modelos son sensibles a la escala de los datos, por lo que la normalización es importante para que los coeficientes o las distancias se calculen correctamente.\n",
    "\n",
    "- Árbol de Decisión / Random Forest: Estos modelos no dependen de la escala de los datos, por lo que no es necesario aplicar normalización.\n",
    "\n",
    "Si decides normalizar los datos, deberías explicar cómo esta etapa asegura que los modelos basados en distancia o en optimización de parámetros no se vean sesgados por la magnitud de las variables."
   ]
  },
  {
   "cell_type": "code",
   "execution_count": 74,
   "id": "31e67e5a",
   "metadata": {},
   "outputs": [],
   "source": [
    "from sklearn.preprocessing import StandardScaler\n",
    "\n",
    "# Columnas numéricas continuas para normalizar\n",
    "cols_num = ['account_Charges_Monthly', 'account_Charges_Total', 'estimated_daily_charge', 'customer_tenure']\n",
    "\n",
    "scaler = StandardScaler()\n",
    "\n",
    "# Normalizamos solo las columnas numéricas continuas del conjunto de entrenamiento\n",
    "X_train_scaled = X_train.copy()\n",
    "X_test_scaled = X_test.copy()\n",
    "\n",
    "X_train_scaled[cols_num] = scaler.fit_transform(X_train[cols_num])\n",
    "X_test_scaled[cols_num] = scaler.transform(X_test[cols_num])"
   ]
  },
  {
   "cell_type": "markdown",
   "id": "05bd9315",
   "metadata": {},
   "source": [
    "Modelo 1: Regresión Logística (con normalización)"
   ]
  },
  {
   "cell_type": "code",
   "execution_count": 75,
   "id": "d5c2d694",
   "metadata": {},
   "outputs": [
    {
     "name": "stdout",
     "output_type": "stream",
     "text": [
      "Reporte clasificación - Regresión Logística\n",
      "              precision    recall  f1-score   support\n",
      "\n",
      "           0       0.84      0.89      0.87      1552\n",
      "           1       0.64      0.55      0.59       561\n",
      "\n",
      "    accuracy                           0.80      2113\n",
      "   macro avg       0.74      0.72      0.73      2113\n",
      "weighted avg       0.79      0.80      0.79      2113\n",
      "\n"
     ]
    }
   ],
   "source": [
    "from sklearn.linear_model import LogisticRegression\n",
    "from sklearn.metrics import classification_report\n",
    "\n",
    "model_lr = LogisticRegression(random_state=42, max_iter=1000)\n",
    "model_lr.fit(X_train_scaled, y_train)\n",
    "\n",
    "y_pred_lr = model_lr.predict(X_test_scaled)\n",
    "print(\"Reporte clasificación - Regresión Logística\")\n",
    "print(classification_report(y_test, y_pred_lr))\n"
   ]
  },
  {
   "cell_type": "markdown",
   "id": "3fa184e5",
   "metadata": {},
   "source": [
    "Modelo 2: Random Forest (sin normalización)"
   ]
  },
  {
   "cell_type": "code",
   "execution_count": 76,
   "id": "adb67512",
   "metadata": {},
   "outputs": [
    {
     "name": "stdout",
     "output_type": "stream",
     "text": [
      "Reporte clasificación - Random Forest\n",
      "              precision    recall  f1-score   support\n",
      "\n",
      "           0       0.83      0.89      0.86      1552\n",
      "           1       0.62      0.49      0.55       561\n",
      "\n",
      "    accuracy                           0.79      2113\n",
      "   macro avg       0.73      0.69      0.70      2113\n",
      "weighted avg       0.77      0.79      0.78      2113\n",
      "\n"
     ]
    }
   ],
   "source": [
    "from sklearn.ensemble import RandomForestClassifier\n",
    "\n",
    "model_rf = RandomForestClassifier(random_state=42)\n",
    "model_rf.fit(X_train, y_train)\n",
    "\n",
    "y_pred_rf = model_rf.predict(X_test)\n",
    "print(\"Reporte clasificación - Random Forest\")\n",
    "print(classification_report(y_test, y_pred_rf))\n"
   ]
  },
  {
   "cell_type": "markdown",
   "id": "8d38e766",
   "metadata": {},
   "source": [
    "**Justificación breve**\n",
    "- Regresión Logística: Requiere normalización porque las variables en diferentes escalas afectan el cálculo de los coeficientes y la función de optimización.\n",
    "\n",
    "- Random Forest: No requiere normalización porque divide el espacio de características por valores umbral y no utiliza distancias o funciones que dependan de la escala."
   ]
  },
  {
   "cell_type": "markdown",
   "id": "943ca045",
   "metadata": {},
   "source": [
    "## Evaluación de los Modelos"
   ]
  },
  {
   "cell_type": "markdown",
   "id": "1e67741f",
   "metadata": {},
   "source": [
    "Evalúa cada modelo utilizando las siguientes métricas:\n",
    "\n",
    "- Exactitud (Acurácia)\n",
    "- Precisión\n",
    "- Recall\n",
    "- F1-score\n",
    "- Matriz de confusión\n",
    "\n",
    "Después, realiza un análisis crítico y compara los modelos:\n",
    "\n",
    "- ¿Cuál modelo tuvo el mejor desempeño?\n",
    "- ¿Algún modelo presentó overfitting o underfitting? Si es así, considera las posibles causas y ajustes:\n",
    "\n",
    "    - Overfitting: Cuando el modelo aprende demasiado sobre los datos de entrenamiento, perdiendo la capacidad de generalizar a nuevos datos. Considera reducir la complejidad del modelo o aumentar los datos de entrenamiento.\n",
    "\n",
    "    - Underfitting: Cuando el modelo no captura bien las tendencias de los datos, lo que indica que es demasiado simple. Intenta aumentar la complejidad del modelo o ajustar sus parámetros."
   ]
  },
  {
   "cell_type": "code",
   "execution_count": 78,
   "id": "46e34122",
   "metadata": {},
   "outputs": [
    {
     "data": {
      "image/png": "[encoded data removed]",
      "text/plain": [
       "<Figure size 1200x500 with 4 Axes>"
      ]
     },
     "metadata": {},
     "output_type": "display_data"
    },
    {
     "data": {
      "text/plain": [
       "({'Exactitud': 0.7974443918599148,\n",
       "  'Precisión': 0.6388308977035491,\n",
       "  'Recall': 0.5454545454545454,\n",
       "  'F1-score': 0.5884615384615385},\n",
       " {'Exactitud': 0.7856128726928537,\n",
       "  'Precisión': 0.6227272727272727,\n",
       "  'Recall': 0.48841354723707664,\n",
       "  'F1-score': 0.5474525474525475})"
      ]
     },
     "execution_count": 78,
     "metadata": {},
     "output_type": "execute_result"
    }
   ],
   "source": [
    "from sklearn.metrics import accuracy_score, precision_score, recall_score, f1_score, confusion_matrix, classification_report\n",
    "import matplotlib.pyplot as plt\n",
    "import seaborn as sns\n",
    "\n",
    "# Evaluación de modelo de Regresión Logística\n",
    "metrics_lr = {\n",
    "    \"Exactitud\": accuracy_score(y_test, y_pred_lr),\n",
    "    \"Precisión\": precision_score(y_test, y_pred_lr, average='binary'),\n",
    "    \"Recall\": recall_score(y_test, y_pred_lr, average='binary'),\n",
    "    \"F1-score\": f1_score(y_test, y_pred_lr, average='binary'),\n",
    "    \"Matriz de confusión\": confusion_matrix(y_test, y_pred_lr)\n",
    "}\n",
    "\n",
    "# Evaluación de modelo de Random Forest\n",
    "metrics_rf = {\n",
    "    \"Exactitud\": accuracy_score(y_test, y_pred_rf),\n",
    "    \"Precisión\": precision_score(y_test, y_pred_rf, average='binary'),\n",
    "    \"Recall\": recall_score(y_test, y_pred_rf, average='binary'),\n",
    "    \"F1-score\": f1_score(y_test, y_pred_rf, average='binary'),\n",
    "    \"Matriz de confusión\": confusion_matrix(y_test, y_pred_rf)\n",
    "}\n",
    "\n",
    "# Mostrar visualmente las matrices de confusión\n",
    "plt.figure(figsize=(12, 5))\n",
    "\n",
    "plt.subplot(1, 2, 1)\n",
    "sns.heatmap(metrics_lr[\"Matriz de confusión\"], annot=True, fmt='d', cmap='Blues')\n",
    "plt.title(\"Matriz de Confusión - Regresión Logística\")\n",
    "plt.xlabel(\"Predicción\")\n",
    "plt.ylabel(\"Real\")\n",
    "\n",
    "plt.subplot(1, 2, 2)\n",
    "sns.heatmap(metrics_rf[\"Matriz de confusión\"], annot=True, fmt='d', cmap='Greens')\n",
    "plt.title(\"Matriz de Confusión - Random Forest\")\n",
    "plt.xlabel(\"Predicción\")\n",
    "plt.ylabel(\"Real\")\n",
    "\n",
    "plt.tight_layout()\n",
    "plt.show()\n",
    "\n",
    "metrics_lr.pop(\"Matriz de confusión\")\n",
    "metrics_rf.pop(\"Matriz de confusión\")\n",
    "\n",
    "(metrics_lr, metrics_rf)\n"
   ]
  },
  {
   "cell_type": "code",
   "execution_count": 79,
   "id": "4f6875e6",
   "metadata": {},
   "outputs": [
    {
     "name": "stdout",
     "output_type": "stream",
     "text": [
      "===== Evaluación: Regresión Logística =====\n",
      "Exactitud: 0.7974443918599148\n",
      "Precisión: 0.6388308977035491\n",
      "Recall: 0.5454545454545454\n",
      "F1-score: 0.5884615384615385\n",
      "Matriz de confusión:\n",
      " [[1379  173]\n",
      " [ 255  306]]\n",
      "\n",
      "===== Evaluación: Random Forest =====\n",
      "Exactitud: 0.7856128726928537\n",
      "Precisión: 0.6227272727272727\n",
      "Recall: 0.48841354723707664\n",
      "F1-score: 0.5474525474525475\n",
      "Matriz de confusión:\n",
      " [[1386  166]\n",
      " [ 287  274]]\n"
     ]
    }
   ],
   "source": [
    "from sklearn.metrics import accuracy_score, precision_score, recall_score, f1_score, confusion_matrix, classification_report\n",
    "\n",
    "# Logistic Regression\n",
    "print(\"===== Evaluación: Regresión Logística =====\")\n",
    "print(\"Exactitud:\", accuracy_score(y_test, y_pred_lr))\n",
    "print(\"Precisión:\", precision_score(y_test, y_pred_lr, average='binary'))  # Cambia a 'macro' si hay más de 2 clases\n",
    "print(\"Recall:\", recall_score(y_test, y_pred_lr, average='binary'))\n",
    "print(\"F1-score:\", f1_score(y_test, y_pred_lr, average='binary'))\n",
    "print(\"Matriz de confusión:\\n\", confusion_matrix(y_test, y_pred_lr))\n",
    "\n",
    "# Random Forest\n",
    "print(\"\\n===== Evaluación: Random Forest =====\")\n",
    "print(\"Exactitud:\", accuracy_score(y_test, y_pred_rf))\n",
    "print(\"Precisión:\", precision_score(y_test, y_pred_rf, average='binary'))\n",
    "print(\"Recall:\", recall_score(y_test, y_pred_rf, average='binary'))\n",
    "print(\"F1-score:\", f1_score(y_test, y_pred_rf, average='binary'))\n",
    "print(\"Matriz de confusión:\\n\", confusion_matrix(y_test, y_pred_rf))\n"
   ]
  },
  {
   "cell_type": "markdown",
   "id": "fadfb58b",
   "metadata": {},
   "source": [
    "# 📋 Interpretación y Conclusiones"
   ]
  },
  {
   "cell_type": "markdown",
   "id": "6860386a",
   "metadata": {},
   "source": [
    "## Análisis de la Importancia de las Variables"
   ]
  },
  {
   "cell_type": "markdown",
   "id": "26461939",
   "metadata": {},
   "source": [
    "Después de elegir los modelos, realiza el análisis de las variables más relevantes para la predicción de la cancelación:\n",
    "\n",
    "- Regresión Logística: Investiga los coeficientes de las variables, que muestran su contribución a la predicción de cancelación.\n",
    "\n",
    "- KNN (K-Nearest Neighbors): Observa cómo los vecinos más cercanos influyen en la decisión de clasificación. Las variables más impactantes pueden ser aquellas que más contribuyen a la proximidad entre los puntos de datos.\n",
    "\n",
    "- Random Forest: Utiliza la importancia de las variables proporcionada por el modelo. Random Forest calcula la importancia basándose en cómo cada variable contribuye a la reducción de la impureza durante las divisiones de los árboles.\n",
    "\n",
    "- SVM (Support Vector Machine): En el SVM, las variables más relevantes son aquellas que influyen en la frontera de decisión entre las clases. Puedes analizar los coeficientes de los vectores de soporte para entender qué variables tienen mayor impacto.\n",
    "\n",
    "- Otros Modelos: Dependiendo del modelo elegido, considera el análisis de métricas específicas para comprender la relevancia de las variables. Por ejemplo, coeficientes en modelos lineales, pesos en redes neuronales, o la importancia relativa en técnicas de boosting (como XGBoost)."
   ]
  },
  {
   "cell_type": "code",
   "execution_count": 80,
   "id": "58c0d87f",
   "metadata": {},
   "outputs": [],
   "source": [
    "from sklearn.neighbors import KNeighborsClassifier\n",
    "\n",
    "# Crear modelo KNN\n",
    "model_knn = KNeighborsClassifier(n_neighbors=5)\n",
    "model_knn.fit(X_train_scaled, y_train)\n",
    "\n",
    "# Predicciones\n",
    "y_pred_knn = model_knn.predict(X_test_scaled)\n"
   ]
  },
  {
   "cell_type": "code",
   "execution_count": 81,
   "id": "8091bee4",
   "metadata": {},
   "outputs": [],
   "source": [
    "from sklearn.svm import SVC\n",
    "\n",
    "# Crear modelo SVM\n",
    "model_svm = SVC(random_state=42)\n",
    "model_svm.fit(X_train_scaled, y_train)\n",
    "\n",
    "# Predicciones\n",
    "y_pred_svm = model_svm.predict(X_test_scaled)\n"
   ]
  },
  {
   "cell_type": "code",
   "execution_count": 82,
   "id": "190d58ce",
   "metadata": {},
   "outputs": [
    {
     "name": "stdout",
     "output_type": "stream",
     "text": [
      "🔹 Resultados del modelo KNN:\n",
      "Accuracy: 0.754850922858495\n",
      "Precision: 0.7502621242437438\n",
      "Recall: 0.754850922858495\n",
      "F1 Score: 0.752348554669461\n",
      "Matriz de Confusión:\n",
      "[[1310  242]\n",
      " [ 276  285]]\n"
     ]
    }
   ],
   "source": [
    "from sklearn.metrics import accuracy_score, precision_score, recall_score, f1_score, confusion_matrix\n",
    "\n",
    "print(\"🔹 Resultados del modelo KNN:\")\n",
    "print(\"Accuracy:\", accuracy_score(y_test, y_pred_knn))\n",
    "print(\"Precision:\", precision_score(y_test, y_pred_knn, average='weighted'))\n",
    "print(\"Recall:\", recall_score(y_test, y_pred_knn, average='weighted'))\n",
    "print(\"F1 Score:\", f1_score(y_test, y_pred_knn, average='weighted'))\n",
    "print(\"Matriz de Confusión:\")\n",
    "print(confusion_matrix(y_test, y_pred_knn))\n"
   ]
  },
  {
   "cell_type": "code",
   "execution_count": 83,
   "id": "11d62feb",
   "metadata": {},
   "outputs": [
    {
     "name": "stdout",
     "output_type": "stream",
     "text": [
      "\n",
      "🔹 Resultados del modelo SVM:\n",
      "Accuracy: 0.7979176526265973\n",
      "Precision: 0.785991665667984\n",
      "Recall: 0.7979176526265973\n",
      "F1 Score: 0.7868920786792788\n",
      "Matriz de Confusión:\n",
      "[[1414  138]\n",
      " [ 289  272]]\n"
     ]
    }
   ],
   "source": [
    "print(\"\\n🔹 Resultados del modelo SVM:\")\n",
    "print(\"Accuracy:\", accuracy_score(y_test, y_pred_svm))\n",
    "print(\"Precision:\", precision_score(y_test, y_pred_svm, average='weighted'))\n",
    "print(\"Recall:\", recall_score(y_test, y_pred_svm, average='weighted'))\n",
    "print(\"F1 Score:\", f1_score(y_test, y_pred_svm, average='weighted'))\n",
    "print(\"Matriz de Confusión:\")\n",
    "print(confusion_matrix(y_test, y_pred_svm))\n"
   ]
  },
  {
   "cell_type": "markdown",
   "id": "2fabd172",
   "metadata": {},
   "source": [
    "### 🔍 1. Regresión Logística – Coeficientes"
   ]
  },
  {
   "cell_type": "markdown",
   "id": "e83e77a8",
   "metadata": {},
   "source": [
    "Los coeficientes indican cuánto influye cada variable en la probabilidad de cancelación. Un valor positivo aumenta la probabilidad de churn, uno negativo la reduce."
   ]
  },
  {
   "cell_type": "code",
   "execution_count": 84,
   "id": "cb5baae0",
   "metadata": {},
   "outputs": [
    {
     "name": "stdout",
     "output_type": "stream",
     "text": [
      "🔎 Variables más influyentes (Regresión Logística):\n",
      "                                  Variable  Coeficiente  Importancia_absoluta\n",
      "3                          customer_tenure    -1.471333              1.471333\n",
      "20               account_Contract_Two year    -1.280576              1.280576\n",
      "18             internet_InternetService_No    -0.820812              0.820812\n",
      "17    internet_InternetService_Fiber optic     0.776749              0.776749\n",
      "19               account_Contract_One year    -0.725881              0.725881\n",
      "14                   account_Charges_Total     0.712936              0.712936\n",
      "4                       phone_PhoneService    -0.549276              0.549276\n",
      "9                     internet_TechSupport    -0.416536              0.416536\n",
      "12                account_PaperlessBilling     0.415458              0.415458\n",
      "22  account_PaymentMethod_Electronic check     0.369061              0.369061\n"
     ]
    }
   ],
   "source": [
    "import pandas as pd\n",
    "import numpy as np\n",
    "\n",
    "# Extraer coeficientes\n",
    "coeficientes = model_lr.coef_[0]\n",
    "features = X_train_scaled.columns\n",
    "\n",
    "# Crear DataFrame ordenado\n",
    "df_coef_lr = pd.DataFrame({'Variable': features, 'Coeficiente': coeficientes})\n",
    "df_coef_lr['Importancia_absoluta'] = np.abs(df_coef_lr['Coeficiente'])\n",
    "df_coef_lr = df_coef_lr.sort_values(by='Importancia_absoluta', ascending=False)\n",
    "\n",
    "print(\"🔎 Variables más influyentes (Regresión Logística):\")\n",
    "print(df_coef_lr.head(10))\n"
   ]
  },
  {
   "cell_type": "markdown",
   "id": "b2e44564",
   "metadata": {},
   "source": [
    "### 🌲 2. Random Forest – Importancia de las variables"
   ]
  },
  {
   "cell_type": "markdown",
   "id": "bbb6b69b",
   "metadata": {},
   "source": [
    "Random Forest proporciona automáticamente una medida de importancia de cada variable basada en las reducciones de impureza (Gini o Entropía)."
   ]
  },
  {
   "cell_type": "code",
   "execution_count": 85,
   "id": "1cb92971",
   "metadata": {},
   "outputs": [
    {
     "name": "stdout",
     "output_type": "stream",
     "text": [
      "🌲 Variables más importantes (Random Forest):\n",
      "                                  Variable  Importancia\n",
      "14                   account_Charges_Total     0.173814\n",
      "3                          customer_tenure     0.157419\n",
      "13                 account_Charges_Monthly     0.142296\n",
      "15                  estimated_daily_charge     0.116028\n",
      "17    internet_InternetService_Fiber optic     0.039526\n",
      "22  account_PaymentMethod_Electronic check     0.036190\n",
      "20               account_Contract_Two year     0.032248\n",
      "16                    customer_gender_Male     0.026154\n",
      "19               account_Contract_One year     0.025156\n",
      "12                account_PaperlessBilling     0.023848\n"
     ]
    }
   ],
   "source": [
    "importances = model_rf.feature_importances_\n",
    "features = X_train.columns\n",
    "\n",
    "df_importance_rf = pd.DataFrame({'Variable': features, 'Importancia': importances})\n",
    "df_importance_rf = df_importance_rf.sort_values(by='Importancia', ascending=False)\n",
    "\n",
    "print(\"🌲 Variables más importantes (Random Forest):\")\n",
    "print(df_importance_rf.head(10))"
   ]
  },
  {
   "cell_type": "markdown",
   "id": "2d7c88de",
   "metadata": {},
   "source": [
    "### 👥 3. KNN – No tiene coeficientes directos, pero puedes usar técnicas como:"
   ]
  },
  {
   "cell_type": "markdown",
   "id": "d4d6829c",
   "metadata": {},
   "source": [
    "Opción 1: Permutation Importance\n",
    "Evalúa cómo cambia el desempeño del modelo al permutar cada variable."
   ]
  },
  {
   "cell_type": "code",
   "execution_count": 86,
   "id": "b7ef1506",
   "metadata": {},
   "outputs": [
    {
     "name": "stdout",
     "output_type": "stream",
     "text": [
      "👥 Variables más importantes (KNN - Permutation Importance):\n",
      "                                Variable  Importancia\n",
      "3                        customer_tenure     0.009749\n",
      "14                 account_Charges_Total     0.005159\n",
      "13               account_Charges_Monthly     0.003124\n",
      "15                estimated_daily_charge     0.002792\n",
      "18           internet_InternetService_No     0.000947\n",
      "20             account_Contract_Two year     0.000710\n",
      "4                     phone_PhoneService     0.000379\n",
      "17  internet_InternetService_Fiber optic     0.000142\n",
      "19             account_Contract_One year     0.000095\n",
      "6                internet_OnlineSecurity    -0.000994\n"
     ]
    }
   ],
   "source": [
    "from sklearn.inspection import permutation_importance\n",
    "\n",
    "result_knn = permutation_importance(model_knn, X_test_scaled, y_test, n_repeats=10, random_state=42)\n",
    "\n",
    "df_perm_knn = pd.DataFrame({\n",
    "    'Variable': X_test_scaled.columns,\n",
    "    'Importancia': result_knn.importances_mean\n",
    "}).sort_values(by='Importancia', ascending=False)\n",
    "\n",
    "print(\"👥 Variables más importantes (KNN - Permutation Importance):\")\n",
    "print(df_perm_knn.head(10))\n"
   ]
  },
  {
   "cell_type": "markdown",
   "id": "95025bde",
   "metadata": {},
   "source": [
    "### 🧠 4. SVM – Coeficientes del modelo lineal"
   ]
  },
  {
   "cell_type": "markdown",
   "id": "1001d94d",
   "metadata": {},
   "source": [
    "En un SVM lineal, los coeficientes (model.coef_) indican qué variables definen el margen de separación entre clases."
   ]
  },
  {
   "cell_type": "code",
   "execution_count": 89,
   "id": "89f029b7",
   "metadata": {},
   "outputs": [
    {
     "name": "stdout",
     "output_type": "stream",
     "text": [
      "🧠 Variables más influyentes (SVM Lineal):\n",
      "                                  Variable  Coeficiente  Importancia_absoluta\n",
      "17    internet_InternetService_Fiber optic     1.195874              1.195874\n",
      "3                          customer_tenure    -0.682983              0.682983\n",
      "4                       phone_PhoneService    -0.426891              0.426891\n",
      "18             internet_InternetService_No    -0.426525              0.426525\n",
      "19               account_Contract_One year    -0.377111              0.377111\n",
      "9                     internet_TechSupport    -0.364037              0.364037\n",
      "22  account_PaymentMethod_Electronic check     0.274749              0.274749\n",
      "12                account_PaperlessBilling     0.241304              0.241304\n",
      "5                      phone_MultipleLines     0.215963              0.215963\n",
      "6                  internet_OnlineSecurity    -0.211023              0.211023\n"
     ]
    }
   ],
   "source": [
    "from sklearn.svm import SVC\n",
    "\n",
    "model_svm_linear = SVC(kernel='linear', random_state=42)\n",
    "model_svm_linear.fit(X_train_scaled, y_train)\n",
    "\n",
    "# Ahora sí podemos obtener coef_\n",
    "df_coef_svm = pd.DataFrame({\n",
    "    'Variable': X_train_scaled.columns,\n",
    "    'Coeficiente': model_svm_linear.coef_[0]\n",
    "})\n",
    "df_coef_svm['Importancia_absoluta'] = abs(df_coef_svm['Coeficiente'])\n",
    "df_coef_svm = df_coef_svm.sort_values(by='Importancia_absoluta', ascending=False)\n",
    "\n",
    "print(\"🧠 Variables más influyentes (SVM Lineal):\")\n",
    "print(df_coef_svm.head(10))"
   ]
  },
  {
   "cell_type": "markdown",
   "id": "856c19ba",
   "metadata": {},
   "source": [
    "# Conclusion"
   ]
  },
  {
   "cell_type": "markdown",
   "id": "b85f718b",
   "metadata": {},
   "source": [
    "Elaboren un informe detallado, destacando los factores que más influyen en la cancelación, basándose en las variables seleccionadas y en el rendimiento de cada modelo.\n",
    "\n",
    "Identifiquen los principales factores que afectan la cancelación de clientes y propongan estrategias de retención basadas en los resultados obtenidos."
   ]
  },
  {
   "cell_type": "markdown",
   "id": "691f0bc0",
   "metadata": {},
   "source": [
    "\n",
    "---\n",
    "\n",
    "## Informe de Conclusión: Análisis de Cancelación de Clientes en Telecom X\n",
    "\n",
    "### 1. Resumen General\n",
    "\n",
    "Se desarrollaron y evaluaron cuatro modelos predictivos para anticipar la cancelación de clientes: Regresión Logística, Random Forest, KNN y SVM. Cada modelo identificó variables clave que influyen en la probabilidad de churn, permitiendo entender mejor los factores determinantes y diseñar estrategias de retención.\n",
    "\n",
    "---\n",
    "\n",
    "### 2. Factores Más Influyentes en la Cancelación\n",
    "\n",
    "#### a) **Tiempo de permanencia del cliente (customer_tenure)**\n",
    "- Consistentemente aparece como la variable con mayor importancia en todos los modelos.\n",
    "- Coeficiente negativo en modelos lineales indica que a mayor tiempo como cliente, menor probabilidad de cancelar.\n",
    "- Estrategia: Enfocar campañas de fidelización en clientes nuevos o con baja antigüedad para aumentar su retención.\n",
    "\n",
    "#### b) **Tipo de contrato (account_Contract)**\n",
    "- Contratos a largo plazo (dos años, un año) disminuyen la probabilidad de cancelación.\n",
    "- Clientes con contrato mes a mes son más propensos a cancelar.\n",
    "- Estrategia: Incentivar contratos de mayor duración mediante descuentos o beneficios exclusivos.\n",
    "\n",
    "#### c) **Tipo de servicio de internet (internet_InternetService)**\n",
    "- Clientes con servicio por fibra óptica tienen mayor riesgo de churn según regresión logística y SVM (coeficiente positivo).\n",
    "- Ausencia de servicio de internet reduce la probabilidad de cancelar (quizá clientes con menos servicios tienen menos motivos para irse).\n",
    "- Estrategia: Mejorar la calidad y atención en servicios de fibra óptica, incluyendo soporte técnico proactivo.\n",
    "\n",
    "#### d) **Cargos totales y mensuales (account_Charges_Total y account_Charges_Monthly)**\n",
    "- Mayor gasto total y mensual se asocia con mayor probabilidad de cancelación.\n",
    "- Posible indicio de insatisfacción por costos elevados o consumo no acorde a expectativas.\n",
    "- Estrategia: Revisar planes y tarifas, ofrecer promociones personalizadas para clientes con altos cargos.\n",
    "\n",
    "#### e) **Método de pago y facturación sin papel (account_PaymentMethod y account_PaperlessBilling)**\n",
    "- Algunos métodos de pago como \"Electronic check\" están relacionados con mayor churn.\n",
    "- La facturación sin papel también tiene impacto positivo en la cancelación.\n",
    "- Estrategia: Incentivar métodos de pago automáticos y tradicionales, mejorar comunicación para clientes con facturación electrónica.\n",
    "\n",
    "#### f) **Soporte técnico y servicios adicionales**\n",
    "- El acceso a soporte técnico (internet_TechSupport) y servicios como Phone Service disminuyen la probabilidad de churn.\n",
    "- Estrategia: Fortalecer el soporte técnico y promover servicios complementarios para aumentar la satisfacción.\n",
    "\n",
    "---\n",
    "\n",
    "### 3. Evaluación y Selección de Modelos\n",
    "\n",
    "- **Regresión Logística y SVM**: Buen desempeño, permiten interpretar fácilmente la influencia de variables gracias a sus coeficientes.\n",
    "- **Random Forest**: Proporciona una medida robusta de importancia y maneja bien interacciones no lineales.\n",
    "- **KNN**: Menor importancia relativa, pero útil para patrones basados en proximidad.\n",
    "\n",
    "Se recomienda usar una combinación de estos modelos para mejorar la precisión predictiva y contar con interpretabilidad.\n",
    "\n",
    "---\n",
    "\n",
    "### 4. Estrategias de Retención Basadas en Resultados\n",
    "\n",
    "- **Campañas focalizadas en clientes recientes**: Ofrecer incentivos para reducir cancelación temprana.\n",
    "- **Ofertas para contratos largos**: Mejorar el compromiso y disminuir la rotación.\n",
    "- **Optimizar planes y tarifas para clientes de alto gasto**: Evitar que los cargos elevados sean motivo de cancelación.\n",
    "- **Mejorar experiencia en fibra óptica y soporte técnico**: Minimizar problemas técnicos que lleven a la insatisfacción.\n",
    "- **Monitorear métodos de pago y facturación**: Promover canales que reduzcan la probabilidad de churn.\n",
    "\n",
    "---"
   ]
  }
 ],
 "metadata": {
  "kernelspec": {
   "display_name": "Python 3",
   "language": "python",
   "name": "python3"
  },
  "language_info": {
   "codemirror_mode": {
    "name": "ipython",
    "version": 3
   },
   "file_extension": ".py",
   "mimetype": "text/x-python",
   "name": "python",
   "nbconvert_exporter": "python",
   "pygments_lexer": "ipython3",
   "version": "3.11.9"
  }
 },
 "nbformat": 4,
 "nbformat_minor": 5
}
